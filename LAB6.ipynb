{
  "cells": [
    {
      "cell_type": "markdown",
      "metadata": {
        "id": "BNQ0McEkN8lx"
      },
      "source": [
        "##**Лабораторная работа №6**\n",
        "\n",
        "**Выполнил: Курьнояв А.И.**\n",
        "\n",
        "\n",
        "**Группа: ИУ5-21М**\n",
        "\n",
        "---\n",
        "\n",
        "*Цель*: обучение работе с графовым типом данных и графовыми нейронными сетями.\n",
        "\n",
        "*Задача*: подготовить графовый датасет из базы данных о покупках и построить модель предсказания совершения покупки.\n",
        "\n",
        "---\n",
        "\n",
        "## Графовые нейронные сети\n",
        "\n",
        "**Графовые нейронные сети** - тип нейронной сети, которая напрямую работает со структурой графа. Типичным применениями GNN являются:\n",
        "- Классификация узлов;\n",
        "- Предсказание связей;\n",
        "- Графовая классификация;\n",
        "- Распознавание движений;\n",
        "- Рекомендательные системы.\n",
        "\n",
        "В данной лабораторной работе будет происходить работа над **графовыми сверточными сетями**. Отличаются они от сверточных нейронных сетей нефиксированной структурой, функция свертки не является .\n",
        "\n",
        "Подробнее можно прочитать тут: https://towardsdatascience.com/understanding-graph-convolutional-networks-for-node-classification-a2bfdb7aba7b\n",
        "\n",
        "Тут можно почитать современные подходы к использованию графовых сверточных сетей \n",
        "https://paperswithcode.com/method/gcn\n",
        "\n",
        "---\n",
        "\n",
        "## Датасет\n",
        "В качестве базы данных предлагаем использовать датасет о покупках пользователей в одном магазине товаров RecSys Challenge 2015 (https://www.kaggle.com/datasets/chadgostopp/recsys-challenge-2015). \n",
        "\n",
        "Скачать датасет можно отсюда: https://drive.google.com/drive/folders/1gtAeXPTj-c0RwVOKreMrZ3bfSmCwl2y-?usp=sharing\n",
        "(lite-версия является облегченной версией исходного датасета, рекомендуем использовать её)\n",
        "\n",
        "Также рекомендуем загружать данные в виде архива и распаковывать через пакет zipfile или/и скачивать датасет в собственный Google Drive и примонтировать его в колаб.\n",
        "\n",
        "---"
      ]
    },
    {
      "cell_type": "markdown",
      "metadata": {
        "id": "rbxaUgCSl4ZK"
      },
      "source": [
        "### Установка библиотек, выгрузка исходных датасетов"
      ]
    },
    {
      "cell_type": "code",
      "execution_count": null,
      "metadata": {
        "colab": {
          "base_uri": "https://localhost:8080/"
        },
        "id": "iCtRdgl7kjeF",
        "outputId": "bd5868ed-1ae5-4282-a293-ce5fea71e957"
      },
      "outputs": [
        {
          "output_type": "stream",
          "name": "stdout",
          "text": [
            "Looking in indexes: https://pypi.org/simple, https://us-python.pkg.dev/colab-wheels/public/simple/\n",
            "Looking in links: https://pytorch-geometric.com/whl/torch-1.11.0%2Bcu113.html\n",
            "Collecting torch-sparse\n",
            "  Downloading https://data.pyg.org/whl/torch-1.11.0%2Bcu113/torch_sparse-0.6.13-cp37-cp37m-linux_x86_64.whl (3.5 MB)\n",
            "\u001b[K     |████████████████████████████████| 3.5 MB 6.5 MB/s \n",
            "\u001b[?25hRequirement already satisfied: scipy in /usr/local/lib/python3.7/dist-packages (from torch-sparse) (1.4.1)\n",
            "Requirement already satisfied: numpy>=1.13.3 in /usr/local/lib/python3.7/dist-packages (from scipy->torch-sparse) (1.21.6)\n",
            "Installing collected packages: torch-sparse\n",
            "Successfully installed torch-sparse-0.6.13\n",
            "Looking in indexes: https://pypi.org/simple, https://us-python.pkg.dev/colab-wheels/public/simple/\n",
            "Looking in links: https://pytorch-geometric.com/whl/torch-1.11.0%2Bcu113.html\n",
            "Collecting torch-cluster\n",
            "  Downloading https://data.pyg.org/whl/torch-1.11.0%2Bcu113/torch_cluster-1.6.0-cp37-cp37m-linux_x86_64.whl (2.5 MB)\n",
            "\u001b[K     |████████████████████████████████| 2.5 MB 9.1 MB/s \n",
            "\u001b[?25hInstalling collected packages: torch-cluster\n",
            "Successfully installed torch-cluster-1.6.0\n",
            "Looking in indexes: https://pypi.org/simple, https://us-python.pkg.dev/colab-wheels/public/simple/\n",
            "Looking in links: https://pytorch-geometric.com/whl/torch-1.11.0%2Bcu113.html\n",
            "Collecting torch-spline-conv\n",
            "  Downloading https://data.pyg.org/whl/torch-1.11.0%2Bcu113/torch_spline_conv-1.2.1-cp37-cp37m-linux_x86_64.whl (750 kB)\n",
            "\u001b[K     |████████████████████████████████| 750 kB 7.3 MB/s \n",
            "\u001b[?25hInstalling collected packages: torch-spline-conv\n",
            "Successfully installed torch-spline-conv-1.2.1\n",
            "Looking in indexes: https://pypi.org/simple, https://us-python.pkg.dev/colab-wheels/public/simple/\n",
            "Looking in links: https://pytorch-geometric.com/whl/torch-1.11.0%2Bcu113.html\n",
            "Collecting torch-geometric\n",
            "  Downloading torch_geometric-2.0.4.tar.gz (407 kB)\n",
            "\u001b[K     |████████████████████████████████| 407 kB 9.5 MB/s \n",
            "\u001b[?25hRequirement already satisfied: tqdm in /usr/local/lib/python3.7/dist-packages (from torch-geometric) (4.64.0)\n",
            "Requirement already satisfied: numpy in /usr/local/lib/python3.7/dist-packages (from torch-geometric) (1.21.6)\n",
            "Requirement already satisfied: scipy in /usr/local/lib/python3.7/dist-packages (from torch-geometric) (1.4.1)\n",
            "Requirement already satisfied: pandas in /usr/local/lib/python3.7/dist-packages (from torch-geometric) (1.3.5)\n",
            "Requirement already satisfied: jinja2 in /usr/local/lib/python3.7/dist-packages (from torch-geometric) (2.11.3)\n",
            "Requirement already satisfied: requests in /usr/local/lib/python3.7/dist-packages (from torch-geometric) (2.23.0)\n",
            "Requirement already satisfied: pyparsing in /usr/local/lib/python3.7/dist-packages (from torch-geometric) (3.0.9)\n",
            "Requirement already satisfied: scikit-learn in /usr/local/lib/python3.7/dist-packages (from torch-geometric) (1.0.2)\n",
            "Requirement already satisfied: MarkupSafe>=0.23 in /usr/local/lib/python3.7/dist-packages (from jinja2->torch-geometric) (2.0.1)\n",
            "Requirement already satisfied: python-dateutil>=2.7.3 in /usr/local/lib/python3.7/dist-packages (from pandas->torch-geometric) (2.8.2)\n",
            "Requirement already satisfied: pytz>=2017.3 in /usr/local/lib/python3.7/dist-packages (from pandas->torch-geometric) (2022.1)\n",
            "Requirement already satisfied: six>=1.5 in /usr/local/lib/python3.7/dist-packages (from python-dateutil>=2.7.3->pandas->torch-geometric) (1.15.0)\n",
            "Requirement already satisfied: chardet<4,>=3.0.2 in /usr/local/lib/python3.7/dist-packages (from requests->torch-geometric) (3.0.4)\n",
            "Requirement already satisfied: certifi>=2017.4.17 in /usr/local/lib/python3.7/dist-packages (from requests->torch-geometric) (2022.5.18.1)\n",
            "Requirement already satisfied: urllib3!=1.25.0,!=1.25.1,<1.26,>=1.21.1 in /usr/local/lib/python3.7/dist-packages (from requests->torch-geometric) (1.24.3)\n",
            "Requirement already satisfied: idna<3,>=2.5 in /usr/local/lib/python3.7/dist-packages (from requests->torch-geometric) (2.10)\n",
            "Requirement already satisfied: joblib>=0.11 in /usr/local/lib/python3.7/dist-packages (from scikit-learn->torch-geometric) (1.1.0)\n",
            "Requirement already satisfied: threadpoolctl>=2.0.0 in /usr/local/lib/python3.7/dist-packages (from scikit-learn->torch-geometric) (3.1.0)\n",
            "Building wheels for collected packages: torch-geometric\n",
            "  Building wheel for torch-geometric (setup.py) ... \u001b[?25l\u001b[?25hdone\n",
            "  Created wheel for torch-geometric: filename=torch_geometric-2.0.4-py3-none-any.whl size=616603 sha256=e1adeee4034ee26b320f1b6baed1480641583875cacc7ebf26a5ff7c14163b86\n",
            "  Stored in directory: /root/.cache/pip/wheels/18/a6/a4/ca18c3051fcead866fe7b85700ee2240d883562a1bc70ce421\n",
            "Successfully built torch-geometric\n",
            "Installing collected packages: torch-geometric\n",
            "Successfully installed torch-geometric-2.0.4\n",
            "Looking in indexes: https://pypi.org/simple, https://us-python.pkg.dev/colab-wheels/public/simple/\n",
            "Looking in links: https://data.pyg.org/whl/torch-1.11.0%2Bcu113.html\n",
            "Collecting torch-scatter==2.0.8\n",
            "  Downloading torch_scatter-2.0.8.tar.gz (21 kB)\n",
            "Building wheels for collected packages: torch-scatter\n",
            "  Building wheel for torch-scatter (setup.py) ... \u001b[?25l\u001b[?25hdone\n",
            "  Created wheel for torch-scatter: filename=torch_scatter-2.0.8-cp37-cp37m-linux_x86_64.whl size=3221896 sha256=e479dc591c879f06ff8eaf6aab05ce0c502414f5ce7d6e482f52022a87360c7a\n",
            "  Stored in directory: /root/.cache/pip/wheels/96/e4/4e/2bcc6de6a801960aedbca43f7106d268f766c3f9f8ab49b3a5\n",
            "Successfully built torch-scatter\n",
            "Installing collected packages: torch-scatter\n",
            "Successfully installed torch-scatter-2.0.8\n"
          ]
        }
      ],
      "source": [
        "# Slow method of installing pytorch geometric\n",
        "# !pip install torch_geometric\n",
        "# !pip install torch_sparse\n",
        "# !pip install torch_scatter\n",
        "\n",
        "# Install pytorch geometric\n",
        "!pip install torch-sparse -f https://pytorch-geometric.com/whl/torch-1.11.0%2Bcu113.html\n",
        "!pip install torch-cluster -f https://pytorch-geometric.com/whl/torch-1.11.0%2Bcu113.html\n",
        "!pip install torch-spline-conv -f https://pytorch-geometric.com/whl/torch-1.11.0%2Bcu113.html\n",
        "!pip install torch-geometric -f https://pytorch-geometric.com/whl/torch-1.11.0%2Bcu113.html\n",
        "!pip install torch-scatter==2.0.8 -f https://data.pyg.org/whl/torch-1.11.0%2Bcu113.html"
      ]
    },
    {
      "cell_type": "code",
      "execution_count": null,
      "metadata": {
        "id": "zu_Eij2Qvpkx"
      },
      "outputs": [],
      "source": [
        "import numpy as np\n",
        "import pandas as pd\n",
        "import pickle\n",
        "import csv\n",
        "import os\n",
        "\n",
        "from sklearn.preprocessing import LabelEncoder\n",
        "\n",
        "import torch\n",
        "\n",
        "# PyG - PyTorch Geometric\n",
        "from torch_geometric.data import Data, DataLoader, InMemoryDataset\n",
        "\n",
        "from tqdm import tqdm\n",
        "\n",
        "\n",
        "RANDOM_SEED =  7#@param { type: \"integer\" }\n",
        "BASE_DIR = '/content/' #@param { type: \"string\" }\n",
        "np.random.seed(RANDOM_SEED) "
      ]
    },
    {
      "cell_type": "code",
      "execution_count": null,
      "metadata": {
        "colab": {
          "base_uri": "https://localhost:8080/"
        },
        "id": "Cez-y8ssoOGV",
        "outputId": "da13ac2b-ce96-4ea3-9006-56dc97891e52"
      },
      "outputs": [
        {
          "output_type": "execute_result",
          "data": {
            "text/plain": [
              "<function torch.cuda.is_available>"
            ]
          },
          "metadata": {},
          "execution_count": 4
        }
      ],
      "source": [
        "# Check if CUDA is available for colab\n",
        "torch.cuda.is_available"
      ]
    },
    {
      "cell_type": "code",
      "execution_count": null,
      "metadata": {
        "id": "eSCoxRCCRcWR"
      },
      "outputs": [],
      "source": [
        "# Unpack files from zip-file\n",
        "import zipfile\n",
        "with zipfile.ZipFile(BASE_DIR + 'yoochoose-data-lite.zip', 'r') as zip_ref:\n",
        "    zip_ref.extractall(BASE_DIR)"
      ]
    },
    {
      "cell_type": "markdown",
      "metadata": {
        "id": "pXjuYTjPFdOl"
      },
      "source": [
        "### Анализ исходных данных"
      ]
    },
    {
      "cell_type": "code",
      "execution_count": null,
      "metadata": {
        "colab": {
          "base_uri": "https://localhost:8080/",
          "height": 241
        },
        "id": "lXthpQBX9zKH",
        "outputId": "8a33685a-1b4b-4122-8932-70f35fe1832b"
      },
      "outputs": [
        {
          "output_type": "stream",
          "name": "stderr",
          "text": [
            "/usr/local/lib/python3.7/dist-packages/IPython/core/interactiveshell.py:2882: DtypeWarning: Columns (3) have mixed types.Specify dtype option on import or set low_memory=False.\n",
            "  exec(code_obj, self.user_global_ns, self.user_ns)\n"
          ]
        },
        {
          "output_type": "execute_result",
          "data": {
            "text/plain": [
              "   session_id                 timestamp    item_id category\n",
              "0           9  2014-04-06T11:26:24.127Z  214576500        0\n",
              "1           9  2014-04-06T11:28:54.654Z  214576500        0\n",
              "2           9  2014-04-06T11:29:13.479Z  214576500        0\n",
              "3          19  2014-04-01T20:52:12.357Z  214561790        0\n",
              "4          19  2014-04-01T20:52:13.758Z  214561790        0"
            ],
            "text/html": [
              "\n",
              "  <div id=\"df-ddc717d4-61d8-4d50-9b72-3259be4fd06a\">\n",
              "    <div class=\"colab-df-container\">\n",
              "      <div>\n",
              "<style scoped>\n",
              "    .dataframe tbody tr th:only-of-type {\n",
              "        vertical-align: middle;\n",
              "    }\n",
              "\n",
              "    .dataframe tbody tr th {\n",
              "        vertical-align: top;\n",
              "    }\n",
              "\n",
              "    .dataframe thead th {\n",
              "        text-align: right;\n",
              "    }\n",
              "</style>\n",
              "<table border=\"1\" class=\"dataframe\">\n",
              "  <thead>\n",
              "    <tr style=\"text-align: right;\">\n",
              "      <th></th>\n",
              "      <th>session_id</th>\n",
              "      <th>timestamp</th>\n",
              "      <th>item_id</th>\n",
              "      <th>category</th>\n",
              "    </tr>\n",
              "  </thead>\n",
              "  <tbody>\n",
              "    <tr>\n",
              "      <th>0</th>\n",
              "      <td>9</td>\n",
              "      <td>2014-04-06T11:26:24.127Z</td>\n",
              "      <td>214576500</td>\n",
              "      <td>0</td>\n",
              "    </tr>\n",
              "    <tr>\n",
              "      <th>1</th>\n",
              "      <td>9</td>\n",
              "      <td>2014-04-06T11:28:54.654Z</td>\n",
              "      <td>214576500</td>\n",
              "      <td>0</td>\n",
              "    </tr>\n",
              "    <tr>\n",
              "      <th>2</th>\n",
              "      <td>9</td>\n",
              "      <td>2014-04-06T11:29:13.479Z</td>\n",
              "      <td>214576500</td>\n",
              "      <td>0</td>\n",
              "    </tr>\n",
              "    <tr>\n",
              "      <th>3</th>\n",
              "      <td>19</td>\n",
              "      <td>2014-04-01T20:52:12.357Z</td>\n",
              "      <td>214561790</td>\n",
              "      <td>0</td>\n",
              "    </tr>\n",
              "    <tr>\n",
              "      <th>4</th>\n",
              "      <td>19</td>\n",
              "      <td>2014-04-01T20:52:13.758Z</td>\n",
              "      <td>214561790</td>\n",
              "      <td>0</td>\n",
              "    </tr>\n",
              "  </tbody>\n",
              "</table>\n",
              "</div>\n",
              "      <button class=\"colab-df-convert\" onclick=\"convertToInteractive('df-ddc717d4-61d8-4d50-9b72-3259be4fd06a')\"\n",
              "              title=\"Convert this dataframe to an interactive table.\"\n",
              "              style=\"display:none;\">\n",
              "        \n",
              "  <svg xmlns=\"http://www.w3.org/2000/svg\" height=\"24px\"viewBox=\"0 0 24 24\"\n",
              "       width=\"24px\">\n",
              "    <path d=\"M0 0h24v24H0V0z\" fill=\"none\"/>\n",
              "    <path d=\"M18.56 5.44l.94 2.06.94-2.06 2.06-.94-2.06-.94-.94-2.06-.94 2.06-2.06.94zm-11 1L8.5 8.5l.94-2.06 2.06-.94-2.06-.94L8.5 2.5l-.94 2.06-2.06.94zm10 10l.94 2.06.94-2.06 2.06-.94-2.06-.94-.94-2.06-.94 2.06-2.06.94z\"/><path d=\"M17.41 7.96l-1.37-1.37c-.4-.4-.92-.59-1.43-.59-.52 0-1.04.2-1.43.59L10.3 9.45l-7.72 7.72c-.78.78-.78 2.05 0 2.83L4 21.41c.39.39.9.59 1.41.59.51 0 1.02-.2 1.41-.59l7.78-7.78 2.81-2.81c.8-.78.8-2.07 0-2.86zM5.41 20L4 18.59l7.72-7.72 1.47 1.35L5.41 20z\"/>\n",
              "  </svg>\n",
              "      </button>\n",
              "      \n",
              "  <style>\n",
              "    .colab-df-container {\n",
              "      display:flex;\n",
              "      flex-wrap:wrap;\n",
              "      gap: 12px;\n",
              "    }\n",
              "\n",
              "    .colab-df-convert {\n",
              "      background-color: #E8F0FE;\n",
              "      border: none;\n",
              "      border-radius: 50%;\n",
              "      cursor: pointer;\n",
              "      display: none;\n",
              "      fill: #1967D2;\n",
              "      height: 32px;\n",
              "      padding: 0 0 0 0;\n",
              "      width: 32px;\n",
              "    }\n",
              "\n",
              "    .colab-df-convert:hover {\n",
              "      background-color: #E2EBFA;\n",
              "      box-shadow: 0px 1px 2px rgba(60, 64, 67, 0.3), 0px 1px 3px 1px rgba(60, 64, 67, 0.15);\n",
              "      fill: #174EA6;\n",
              "    }\n",
              "\n",
              "    [theme=dark] .colab-df-convert {\n",
              "      background-color: #3B4455;\n",
              "      fill: #D2E3FC;\n",
              "    }\n",
              "\n",
              "    [theme=dark] .colab-df-convert:hover {\n",
              "      background-color: #434B5C;\n",
              "      box-shadow: 0px 1px 3px 1px rgba(0, 0, 0, 0.15);\n",
              "      filter: drop-shadow(0px 1px 2px rgba(0, 0, 0, 0.3));\n",
              "      fill: #FFFFFF;\n",
              "    }\n",
              "  </style>\n",
              "\n",
              "      <script>\n",
              "        const buttonEl =\n",
              "          document.querySelector('#df-ddc717d4-61d8-4d50-9b72-3259be4fd06a button.colab-df-convert');\n",
              "        buttonEl.style.display =\n",
              "          google.colab.kernel.accessAllowed ? 'block' : 'none';\n",
              "\n",
              "        async function convertToInteractive(key) {\n",
              "          const element = document.querySelector('#df-ddc717d4-61d8-4d50-9b72-3259be4fd06a');\n",
              "          const dataTable =\n",
              "            await google.colab.kernel.invokeFunction('convertToInteractive',\n",
              "                                                     [key], {});\n",
              "          if (!dataTable) return;\n",
              "\n",
              "          const docLinkHtml = 'Like what you see? Visit the ' +\n",
              "            '<a target=\"_blank\" href=https://colab.research.google.com/notebooks/data_table.ipynb>data table notebook</a>'\n",
              "            + ' to learn more about interactive tables.';\n",
              "          element.innerHTML = '';\n",
              "          dataTable['output_type'] = 'display_data';\n",
              "          await google.colab.output.renderOutput(dataTable, element);\n",
              "          const docLink = document.createElement('div');\n",
              "          docLink.innerHTML = docLinkHtml;\n",
              "          element.appendChild(docLink);\n",
              "        }\n",
              "      </script>\n",
              "    </div>\n",
              "  </div>\n",
              "  "
            ]
          },
          "metadata": {},
          "execution_count": 8
        }
      ],
      "source": [
        "# Read dataset of items in store\n",
        "df = pd.read_csv(BASE_DIR + 'yoochoose-clicks-lite.dat')\n",
        "df.columns = ['session_id', 'timestamp', 'item_id', 'category'] \n",
        "df.head()"
      ]
    },
    {
      "cell_type": "code",
      "execution_count": null,
      "metadata": {
        "colab": {
          "base_uri": "https://localhost:8080/",
          "height": 206
        },
        "id": "JwHMXnNlvpk2",
        "outputId": "fa805f30-6488-46ab-bd84-37da71e77001"
      },
      "outputs": [
        {
          "output_type": "execute_result",
          "data": {
            "text/plain": [
              "   session_id                 timestamp    item_id  price  quantity\n",
              "0      420374  2014-04-06T18:44:58.314Z  214537888  12462         1\n",
              "1      420374  2014-04-06T18:44:58.325Z  214537850  10471         1\n",
              "2      489758  2014-04-06T09:59:52.422Z  214826955   1360         2\n",
              "3      489758  2014-04-06T09:59:52.476Z  214826715    732         2\n",
              "4      489758  2014-04-06T09:59:52.578Z  214827026   1046         1"
            ],
            "text/html": [
              "\n",
              "  <div id=\"df-6aefd003-90b6-4427-8385-27d001a444cc\">\n",
              "    <div class=\"colab-df-container\">\n",
              "      <div>\n",
              "<style scoped>\n",
              "    .dataframe tbody tr th:only-of-type {\n",
              "        vertical-align: middle;\n",
              "    }\n",
              "\n",
              "    .dataframe tbody tr th {\n",
              "        vertical-align: top;\n",
              "    }\n",
              "\n",
              "    .dataframe thead th {\n",
              "        text-align: right;\n",
              "    }\n",
              "</style>\n",
              "<table border=\"1\" class=\"dataframe\">\n",
              "  <thead>\n",
              "    <tr style=\"text-align: right;\">\n",
              "      <th></th>\n",
              "      <th>session_id</th>\n",
              "      <th>timestamp</th>\n",
              "      <th>item_id</th>\n",
              "      <th>price</th>\n",
              "      <th>quantity</th>\n",
              "    </tr>\n",
              "  </thead>\n",
              "  <tbody>\n",
              "    <tr>\n",
              "      <th>0</th>\n",
              "      <td>420374</td>\n",
              "      <td>2014-04-06T18:44:58.314Z</td>\n",
              "      <td>214537888</td>\n",
              "      <td>12462</td>\n",
              "      <td>1</td>\n",
              "    </tr>\n",
              "    <tr>\n",
              "      <th>1</th>\n",
              "      <td>420374</td>\n",
              "      <td>2014-04-06T18:44:58.325Z</td>\n",
              "      <td>214537850</td>\n",
              "      <td>10471</td>\n",
              "      <td>1</td>\n",
              "    </tr>\n",
              "    <tr>\n",
              "      <th>2</th>\n",
              "      <td>489758</td>\n",
              "      <td>2014-04-06T09:59:52.422Z</td>\n",
              "      <td>214826955</td>\n",
              "      <td>1360</td>\n",
              "      <td>2</td>\n",
              "    </tr>\n",
              "    <tr>\n",
              "      <th>3</th>\n",
              "      <td>489758</td>\n",
              "      <td>2014-04-06T09:59:52.476Z</td>\n",
              "      <td>214826715</td>\n",
              "      <td>732</td>\n",
              "      <td>2</td>\n",
              "    </tr>\n",
              "    <tr>\n",
              "      <th>4</th>\n",
              "      <td>489758</td>\n",
              "      <td>2014-04-06T09:59:52.578Z</td>\n",
              "      <td>214827026</td>\n",
              "      <td>1046</td>\n",
              "      <td>1</td>\n",
              "    </tr>\n",
              "  </tbody>\n",
              "</table>\n",
              "</div>\n",
              "      <button class=\"colab-df-convert\" onclick=\"convertToInteractive('df-6aefd003-90b6-4427-8385-27d001a444cc')\"\n",
              "              title=\"Convert this dataframe to an interactive table.\"\n",
              "              style=\"display:none;\">\n",
              "        \n",
              "  <svg xmlns=\"http://www.w3.org/2000/svg\" height=\"24px\"viewBox=\"0 0 24 24\"\n",
              "       width=\"24px\">\n",
              "    <path d=\"M0 0h24v24H0V0z\" fill=\"none\"/>\n",
              "    <path d=\"M18.56 5.44l.94 2.06.94-2.06 2.06-.94-2.06-.94-.94-2.06-.94 2.06-2.06.94zm-11 1L8.5 8.5l.94-2.06 2.06-.94-2.06-.94L8.5 2.5l-.94 2.06-2.06.94zm10 10l.94 2.06.94-2.06 2.06-.94-2.06-.94-.94-2.06-.94 2.06-2.06.94z\"/><path d=\"M17.41 7.96l-1.37-1.37c-.4-.4-.92-.59-1.43-.59-.52 0-1.04.2-1.43.59L10.3 9.45l-7.72 7.72c-.78.78-.78 2.05 0 2.83L4 21.41c.39.39.9.59 1.41.59.51 0 1.02-.2 1.41-.59l7.78-7.78 2.81-2.81c.8-.78.8-2.07 0-2.86zM5.41 20L4 18.59l7.72-7.72 1.47 1.35L5.41 20z\"/>\n",
              "  </svg>\n",
              "      </button>\n",
              "      \n",
              "  <style>\n",
              "    .colab-df-container {\n",
              "      display:flex;\n",
              "      flex-wrap:wrap;\n",
              "      gap: 12px;\n",
              "    }\n",
              "\n",
              "    .colab-df-convert {\n",
              "      background-color: #E8F0FE;\n",
              "      border: none;\n",
              "      border-radius: 50%;\n",
              "      cursor: pointer;\n",
              "      display: none;\n",
              "      fill: #1967D2;\n",
              "      height: 32px;\n",
              "      padding: 0 0 0 0;\n",
              "      width: 32px;\n",
              "    }\n",
              "\n",
              "    .colab-df-convert:hover {\n",
              "      background-color: #E2EBFA;\n",
              "      box-shadow: 0px 1px 2px rgba(60, 64, 67, 0.3), 0px 1px 3px 1px rgba(60, 64, 67, 0.15);\n",
              "      fill: #174EA6;\n",
              "    }\n",
              "\n",
              "    [theme=dark] .colab-df-convert {\n",
              "      background-color: #3B4455;\n",
              "      fill: #D2E3FC;\n",
              "    }\n",
              "\n",
              "    [theme=dark] .colab-df-convert:hover {\n",
              "      background-color: #434B5C;\n",
              "      box-shadow: 0px 1px 3px 1px rgba(0, 0, 0, 0.15);\n",
              "      filter: drop-shadow(0px 1px 2px rgba(0, 0, 0, 0.3));\n",
              "      fill: #FFFFFF;\n",
              "    }\n",
              "  </style>\n",
              "\n",
              "      <script>\n",
              "        const buttonEl =\n",
              "          document.querySelector('#df-6aefd003-90b6-4427-8385-27d001a444cc button.colab-df-convert');\n",
              "        buttonEl.style.display =\n",
              "          google.colab.kernel.accessAllowed ? 'block' : 'none';\n",
              "\n",
              "        async function convertToInteractive(key) {\n",
              "          const element = document.querySelector('#df-6aefd003-90b6-4427-8385-27d001a444cc');\n",
              "          const dataTable =\n",
              "            await google.colab.kernel.invokeFunction('convertToInteractive',\n",
              "                                                     [key], {});\n",
              "          if (!dataTable) return;\n",
              "\n",
              "          const docLinkHtml = 'Like what you see? Visit the ' +\n",
              "            '<a target=\"_blank\" href=https://colab.research.google.com/notebooks/data_table.ipynb>data table notebook</a>'\n",
              "            + ' to learn more about interactive tables.';\n",
              "          element.innerHTML = '';\n",
              "          dataTable['output_type'] = 'display_data';\n",
              "          await google.colab.output.renderOutput(dataTable, element);\n",
              "          const docLink = document.createElement('div');\n",
              "          docLink.innerHTML = docLinkHtml;\n",
              "          element.appendChild(docLink);\n",
              "        }\n",
              "      </script>\n",
              "    </div>\n",
              "  </div>\n",
              "  "
            ]
          },
          "metadata": {},
          "execution_count": 9
        }
      ],
      "source": [
        "# Read dataset of purchases\n",
        "buy_df = pd.read_csv(BASE_DIR + 'yoochoose-buys-lite.dat')\n",
        "buy_df.columns = ['session_id', 'timestamp', 'item_id', 'price', 'quantity']\n",
        "buy_df.head()"
      ]
    },
    {
      "cell_type": "code",
      "execution_count": null,
      "metadata": {
        "id": "ENE_n4lLvpk2",
        "colab": {
          "base_uri": "https://localhost:8080/"
        },
        "outputId": "8f34b89b-5059-4f31-8606-9dfbdf21af57"
      },
      "outputs": [
        {
          "output_type": "execute_result",
          "data": {
            "text/plain": [
              "session_id    1000000\n",
              "timestamp     5557758\n",
              "item_id         37644\n",
              "category          275\n",
              "dtype: int64"
            ]
          },
          "metadata": {},
          "execution_count": 10
        }
      ],
      "source": [
        "# Filter out item session with length < 2\n",
        "df['valid_session'] = df.session_id.map(df.groupby('session_id')['item_id'].size() > 2)\n",
        "df = df.loc[df.valid_session].drop('valid_session',axis=1)\n",
        "df.nunique()"
      ]
    },
    {
      "cell_type": "code",
      "execution_count": null,
      "metadata": {
        "id": "-bC3IJYQvpk3",
        "scrolled": true,
        "colab": {
          "base_uri": "https://localhost:8080/"
        },
        "outputId": "4fb2422c-a56f-46e5-c42f-e06fc98551fb"
      },
      "outputs": [
        {
          "output_type": "execute_result",
          "data": {
            "text/plain": [
              "session_id    10000\n",
              "timestamp     56127\n",
              "item_id       10099\n",
              "category         40\n",
              "dtype: int64"
            ]
          },
          "metadata": {},
          "execution_count": 11
        }
      ],
      "source": [
        "# Randomly sample a couple of them\n",
        "NUM_SESSIONS =  10000#@param { type: \"integer\" }\n",
        "sampled_session_id = np.random.choice(df.session_id.unique(), NUM_SESSIONS, replace=False)\n",
        "df = df.loc[df.session_id.isin(sampled_session_id)]\n",
        "df.nunique()"
      ]
    },
    {
      "cell_type": "code",
      "execution_count": null,
      "metadata": {
        "colab": {
          "base_uri": "https://localhost:8080/"
        },
        "id": "zVz-DwENvpk3",
        "outputId": "c5f2769b-17c1-41d4-99e0-5968b39818b8"
      },
      "outputs": [
        {
          "output_type": "execute_result",
          "data": {
            "text/plain": [
              "5.6128"
            ]
          },
          "metadata": {},
          "execution_count": 12
        }
      ],
      "source": [
        "# Average length of session\n",
        "df.groupby('session_id')['item_id'].size().mean()"
      ]
    },
    {
      "cell_type": "code",
      "execution_count": null,
      "metadata": {
        "colab": {
          "base_uri": "https://localhost:8080/",
          "height": 415
        },
        "id": "OIqelMBYvpk4",
        "outputId": "16264a9d-7840-416f-ef2a-343e506f31f2"
      },
      "outputs": [
        {
          "output_type": "stream",
          "name": "stderr",
          "text": [
            "/usr/local/lib/python3.7/dist-packages/ipykernel_launcher.py:4: SettingWithCopyWarning: \n",
            "A value is trying to be set on a copy of a slice from a DataFrame.\n",
            "Try using .loc[row_indexer,col_indexer] = value instead\n",
            "\n",
            "See the caveats in the documentation: https://pandas.pydata.org/pandas-docs/stable/user_guide/indexing.html#returning-a-view-versus-a-copy\n",
            "  after removing the cwd from sys.path.\n",
            "/usr/local/lib/python3.7/dist-packages/ipykernel_launcher.py:5: SettingWithCopyWarning: \n",
            "A value is trying to be set on a copy of a slice from a DataFrame.\n",
            "Try using .loc[row_indexer,col_indexer] = value instead\n",
            "\n",
            "See the caveats in the documentation: https://pandas.pydata.org/pandas-docs/stable/user_guide/indexing.html#returning-a-view-versus-a-copy\n",
            "  \"\"\"\n"
          ]
        },
        {
          "output_type": "execute_result",
          "data": {
            "text/plain": [
              "      session_id                 timestamp  item_id  category\n",
              "1147        1986  2014-04-02T15:57:08.961Z     6768         0\n",
              "1148        1986  2014-04-02T15:59:05.847Z     6768         0\n",
              "1149        1986  2014-04-02T15:59:27.500Z     6679         0\n",
              "1216        2182  2014-04-01T19:13:13.130Z     2216         0\n",
              "1217        2182  2014-04-01T19:17:35.106Z     6935         0"
            ],
            "text/html": [
              "\n",
              "  <div id=\"df-d396d368-032e-450c-8464-e685927c48fa\">\n",
              "    <div class=\"colab-df-container\">\n",
              "      <div>\n",
              "<style scoped>\n",
              "    .dataframe tbody tr th:only-of-type {\n",
              "        vertical-align: middle;\n",
              "    }\n",
              "\n",
              "    .dataframe tbody tr th {\n",
              "        vertical-align: top;\n",
              "    }\n",
              "\n",
              "    .dataframe thead th {\n",
              "        text-align: right;\n",
              "    }\n",
              "</style>\n",
              "<table border=\"1\" class=\"dataframe\">\n",
              "  <thead>\n",
              "    <tr style=\"text-align: right;\">\n",
              "      <th></th>\n",
              "      <th>session_id</th>\n",
              "      <th>timestamp</th>\n",
              "      <th>item_id</th>\n",
              "      <th>category</th>\n",
              "    </tr>\n",
              "  </thead>\n",
              "  <tbody>\n",
              "    <tr>\n",
              "      <th>1147</th>\n",
              "      <td>1986</td>\n",
              "      <td>2014-04-02T15:57:08.961Z</td>\n",
              "      <td>6768</td>\n",
              "      <td>0</td>\n",
              "    </tr>\n",
              "    <tr>\n",
              "      <th>1148</th>\n",
              "      <td>1986</td>\n",
              "      <td>2014-04-02T15:59:05.847Z</td>\n",
              "      <td>6768</td>\n",
              "      <td>0</td>\n",
              "    </tr>\n",
              "    <tr>\n",
              "      <th>1149</th>\n",
              "      <td>1986</td>\n",
              "      <td>2014-04-02T15:59:27.500Z</td>\n",
              "      <td>6679</td>\n",
              "      <td>0</td>\n",
              "    </tr>\n",
              "    <tr>\n",
              "      <th>1216</th>\n",
              "      <td>2182</td>\n",
              "      <td>2014-04-01T19:13:13.130Z</td>\n",
              "      <td>2216</td>\n",
              "      <td>0</td>\n",
              "    </tr>\n",
              "    <tr>\n",
              "      <th>1217</th>\n",
              "      <td>2182</td>\n",
              "      <td>2014-04-01T19:17:35.106Z</td>\n",
              "      <td>6935</td>\n",
              "      <td>0</td>\n",
              "    </tr>\n",
              "  </tbody>\n",
              "</table>\n",
              "</div>\n",
              "      <button class=\"colab-df-convert\" onclick=\"convertToInteractive('df-d396d368-032e-450c-8464-e685927c48fa')\"\n",
              "              title=\"Convert this dataframe to an interactive table.\"\n",
              "              style=\"display:none;\">\n",
              "        \n",
              "  <svg xmlns=\"http://www.w3.org/2000/svg\" height=\"24px\"viewBox=\"0 0 24 24\"\n",
              "       width=\"24px\">\n",
              "    <path d=\"M0 0h24v24H0V0z\" fill=\"none\"/>\n",
              "    <path d=\"M18.56 5.44l.94 2.06.94-2.06 2.06-.94-2.06-.94-.94-2.06-.94 2.06-2.06.94zm-11 1L8.5 8.5l.94-2.06 2.06-.94-2.06-.94L8.5 2.5l-.94 2.06-2.06.94zm10 10l.94 2.06.94-2.06 2.06-.94-2.06-.94-.94-2.06-.94 2.06-2.06.94z\"/><path d=\"M17.41 7.96l-1.37-1.37c-.4-.4-.92-.59-1.43-.59-.52 0-1.04.2-1.43.59L10.3 9.45l-7.72 7.72c-.78.78-.78 2.05 0 2.83L4 21.41c.39.39.9.59 1.41.59.51 0 1.02-.2 1.41-.59l7.78-7.78 2.81-2.81c.8-.78.8-2.07 0-2.86zM5.41 20L4 18.59l7.72-7.72 1.47 1.35L5.41 20z\"/>\n",
              "  </svg>\n",
              "      </button>\n",
              "      \n",
              "  <style>\n",
              "    .colab-df-container {\n",
              "      display:flex;\n",
              "      flex-wrap:wrap;\n",
              "      gap: 12px;\n",
              "    }\n",
              "\n",
              "    .colab-df-convert {\n",
              "      background-color: #E8F0FE;\n",
              "      border: none;\n",
              "      border-radius: 50%;\n",
              "      cursor: pointer;\n",
              "      display: none;\n",
              "      fill: #1967D2;\n",
              "      height: 32px;\n",
              "      padding: 0 0 0 0;\n",
              "      width: 32px;\n",
              "    }\n",
              "\n",
              "    .colab-df-convert:hover {\n",
              "      background-color: #E2EBFA;\n",
              "      box-shadow: 0px 1px 2px rgba(60, 64, 67, 0.3), 0px 1px 3px 1px rgba(60, 64, 67, 0.15);\n",
              "      fill: #174EA6;\n",
              "    }\n",
              "\n",
              "    [theme=dark] .colab-df-convert {\n",
              "      background-color: #3B4455;\n",
              "      fill: #D2E3FC;\n",
              "    }\n",
              "\n",
              "    [theme=dark] .colab-df-convert:hover {\n",
              "      background-color: #434B5C;\n",
              "      box-shadow: 0px 1px 3px 1px rgba(0, 0, 0, 0.15);\n",
              "      filter: drop-shadow(0px 1px 2px rgba(0, 0, 0, 0.3));\n",
              "      fill: #FFFFFF;\n",
              "    }\n",
              "  </style>\n",
              "\n",
              "      <script>\n",
              "        const buttonEl =\n",
              "          document.querySelector('#df-d396d368-032e-450c-8464-e685927c48fa button.colab-df-convert');\n",
              "        buttonEl.style.display =\n",
              "          google.colab.kernel.accessAllowed ? 'block' : 'none';\n",
              "\n",
              "        async function convertToInteractive(key) {\n",
              "          const element = document.querySelector('#df-d396d368-032e-450c-8464-e685927c48fa');\n",
              "          const dataTable =\n",
              "            await google.colab.kernel.invokeFunction('convertToInteractive',\n",
              "                                                     [key], {});\n",
              "          if (!dataTable) return;\n",
              "\n",
              "          const docLinkHtml = 'Like what you see? Visit the ' +\n",
              "            '<a target=\"_blank\" href=https://colab.research.google.com/notebooks/data_table.ipynb>data table notebook</a>'\n",
              "            + ' to learn more about interactive tables.';\n",
              "          element.innerHTML = '';\n",
              "          dataTable['output_type'] = 'display_data';\n",
              "          await google.colab.output.renderOutput(dataTable, element);\n",
              "          const docLink = document.createElement('div');\n",
              "          docLink.innerHTML = docLinkHtml;\n",
              "          element.appendChild(docLink);\n",
              "        }\n",
              "      </script>\n",
              "    </div>\n",
              "  </div>\n",
              "  "
            ]
          },
          "metadata": {},
          "execution_count": 13
        }
      ],
      "source": [
        "# Encode item and category id in item dataset so that ids will be in range (0,len(df.item.unique()))\n",
        "item_encoder = LabelEncoder()\n",
        "category_encoder = LabelEncoder()\n",
        "df['item_id'] = item_encoder.fit_transform(df.item_id)\n",
        "df['category']= category_encoder.fit_transform(df.category.apply(str))\n",
        "df.head()"
      ]
    },
    {
      "cell_type": "code",
      "execution_count": null,
      "metadata": {
        "colab": {
          "base_uri": "https://localhost:8080/",
          "height": 310
        },
        "id": "Gn5n37mBvpk5",
        "outputId": "92bd8ae7-7789-443e-93ac-318589155b53",
        "scrolled": true
      },
      "outputs": [
        {
          "output_type": "stream",
          "name": "stderr",
          "text": [
            "/usr/local/lib/python3.7/dist-packages/ipykernel_launcher.py:3: SettingWithCopyWarning: \n",
            "A value is trying to be set on a copy of a slice from a DataFrame.\n",
            "Try using .loc[row_indexer,col_indexer] = value instead\n",
            "\n",
            "See the caveats in the documentation: https://pandas.pydata.org/pandas-docs/stable/user_guide/indexing.html#returning-a-view-versus-a-copy\n",
            "  This is separate from the ipykernel package so we can avoid doing imports until\n"
          ]
        },
        {
          "output_type": "execute_result",
          "data": {
            "text/plain": [
              "     session_id                 timestamp  item_id  price  quantity\n",
              "34       141007  2014-04-01T17:36:22.260Z     6638    941         1\n",
              "35       141007  2014-04-01T17:36:22.277Z     1840    523         1\n",
              "61        70353  2014-04-06T10:55:06.086Z     7649  41783         1\n",
              "201      421868  2014-04-07T07:26:16.286Z     6684    627         1\n",
              "202      421868  2014-04-07T07:26:16.291Z     6685    732         1"
            ],
            "text/html": [
              "\n",
              "  <div id=\"df-55a2adc7-d2b3-4fa4-9d42-3fce00778d01\">\n",
              "    <div class=\"colab-df-container\">\n",
              "      <div>\n",
              "<style scoped>\n",
              "    .dataframe tbody tr th:only-of-type {\n",
              "        vertical-align: middle;\n",
              "    }\n",
              "\n",
              "    .dataframe tbody tr th {\n",
              "        vertical-align: top;\n",
              "    }\n",
              "\n",
              "    .dataframe thead th {\n",
              "        text-align: right;\n",
              "    }\n",
              "</style>\n",
              "<table border=\"1\" class=\"dataframe\">\n",
              "  <thead>\n",
              "    <tr style=\"text-align: right;\">\n",
              "      <th></th>\n",
              "      <th>session_id</th>\n",
              "      <th>timestamp</th>\n",
              "      <th>item_id</th>\n",
              "      <th>price</th>\n",
              "      <th>quantity</th>\n",
              "    </tr>\n",
              "  </thead>\n",
              "  <tbody>\n",
              "    <tr>\n",
              "      <th>34</th>\n",
              "      <td>141007</td>\n",
              "      <td>2014-04-01T17:36:22.260Z</td>\n",
              "      <td>6638</td>\n",
              "      <td>941</td>\n",
              "      <td>1</td>\n",
              "    </tr>\n",
              "    <tr>\n",
              "      <th>35</th>\n",
              "      <td>141007</td>\n",
              "      <td>2014-04-01T17:36:22.277Z</td>\n",
              "      <td>1840</td>\n",
              "      <td>523</td>\n",
              "      <td>1</td>\n",
              "    </tr>\n",
              "    <tr>\n",
              "      <th>61</th>\n",
              "      <td>70353</td>\n",
              "      <td>2014-04-06T10:55:06.086Z</td>\n",
              "      <td>7649</td>\n",
              "      <td>41783</td>\n",
              "      <td>1</td>\n",
              "    </tr>\n",
              "    <tr>\n",
              "      <th>201</th>\n",
              "      <td>421868</td>\n",
              "      <td>2014-04-07T07:26:16.286Z</td>\n",
              "      <td>6684</td>\n",
              "      <td>627</td>\n",
              "      <td>1</td>\n",
              "    </tr>\n",
              "    <tr>\n",
              "      <th>202</th>\n",
              "      <td>421868</td>\n",
              "      <td>2014-04-07T07:26:16.291Z</td>\n",
              "      <td>6685</td>\n",
              "      <td>732</td>\n",
              "      <td>1</td>\n",
              "    </tr>\n",
              "  </tbody>\n",
              "</table>\n",
              "</div>\n",
              "      <button class=\"colab-df-convert\" onclick=\"convertToInteractive('df-55a2adc7-d2b3-4fa4-9d42-3fce00778d01')\"\n",
              "              title=\"Convert this dataframe to an interactive table.\"\n",
              "              style=\"display:none;\">\n",
              "        \n",
              "  <svg xmlns=\"http://www.w3.org/2000/svg\" height=\"24px\"viewBox=\"0 0 24 24\"\n",
              "       width=\"24px\">\n",
              "    <path d=\"M0 0h24v24H0V0z\" fill=\"none\"/>\n",
              "    <path d=\"M18.56 5.44l.94 2.06.94-2.06 2.06-.94-2.06-.94-.94-2.06-.94 2.06-2.06.94zm-11 1L8.5 8.5l.94-2.06 2.06-.94-2.06-.94L8.5 2.5l-.94 2.06-2.06.94zm10 10l.94 2.06.94-2.06 2.06-.94-2.06-.94-.94-2.06-.94 2.06-2.06.94z\"/><path d=\"M17.41 7.96l-1.37-1.37c-.4-.4-.92-.59-1.43-.59-.52 0-1.04.2-1.43.59L10.3 9.45l-7.72 7.72c-.78.78-.78 2.05 0 2.83L4 21.41c.39.39.9.59 1.41.59.51 0 1.02-.2 1.41-.59l7.78-7.78 2.81-2.81c.8-.78.8-2.07 0-2.86zM5.41 20L4 18.59l7.72-7.72 1.47 1.35L5.41 20z\"/>\n",
              "  </svg>\n",
              "      </button>\n",
              "      \n",
              "  <style>\n",
              "    .colab-df-container {\n",
              "      display:flex;\n",
              "      flex-wrap:wrap;\n",
              "      gap: 12px;\n",
              "    }\n",
              "\n",
              "    .colab-df-convert {\n",
              "      background-color: #E8F0FE;\n",
              "      border: none;\n",
              "      border-radius: 50%;\n",
              "      cursor: pointer;\n",
              "      display: none;\n",
              "      fill: #1967D2;\n",
              "      height: 32px;\n",
              "      padding: 0 0 0 0;\n",
              "      width: 32px;\n",
              "    }\n",
              "\n",
              "    .colab-df-convert:hover {\n",
              "      background-color: #E2EBFA;\n",
              "      box-shadow: 0px 1px 2px rgba(60, 64, 67, 0.3), 0px 1px 3px 1px rgba(60, 64, 67, 0.15);\n",
              "      fill: #174EA6;\n",
              "    }\n",
              "\n",
              "    [theme=dark] .colab-df-convert {\n",
              "      background-color: #3B4455;\n",
              "      fill: #D2E3FC;\n",
              "    }\n",
              "\n",
              "    [theme=dark] .colab-df-convert:hover {\n",
              "      background-color: #434B5C;\n",
              "      box-shadow: 0px 1px 3px 1px rgba(0, 0, 0, 0.15);\n",
              "      filter: drop-shadow(0px 1px 2px rgba(0, 0, 0, 0.3));\n",
              "      fill: #FFFFFF;\n",
              "    }\n",
              "  </style>\n",
              "\n",
              "      <script>\n",
              "        const buttonEl =\n",
              "          document.querySelector('#df-55a2adc7-d2b3-4fa4-9d42-3fce00778d01 button.colab-df-convert');\n",
              "        buttonEl.style.display =\n",
              "          google.colab.kernel.accessAllowed ? 'block' : 'none';\n",
              "\n",
              "        async function convertToInteractive(key) {\n",
              "          const element = document.querySelector('#df-55a2adc7-d2b3-4fa4-9d42-3fce00778d01');\n",
              "          const dataTable =\n",
              "            await google.colab.kernel.invokeFunction('convertToInteractive',\n",
              "                                                     [key], {});\n",
              "          if (!dataTable) return;\n",
              "\n",
              "          const docLinkHtml = 'Like what you see? Visit the ' +\n",
              "            '<a target=\"_blank\" href=https://colab.research.google.com/notebooks/data_table.ipynb>data table notebook</a>'\n",
              "            + ' to learn more about interactive tables.';\n",
              "          element.innerHTML = '';\n",
              "          dataTable['output_type'] = 'display_data';\n",
              "          await google.colab.output.renderOutput(dataTable, element);\n",
              "          const docLink = document.createElement('div');\n",
              "          docLink.innerHTML = docLinkHtml;\n",
              "          element.appendChild(docLink);\n",
              "        }\n",
              "      </script>\n",
              "    </div>\n",
              "  </div>\n",
              "  "
            ]
          },
          "metadata": {},
          "execution_count": 14
        }
      ],
      "source": [
        "# Encode item and category id in purchase dataset\n",
        "buy_df = buy_df.loc[buy_df.session_id.isin(df.session_id)]\n",
        "buy_df['item_id'] = item_encoder.transform(buy_df.item_id)\n",
        "buy_df.head()"
      ]
    },
    {
      "cell_type": "code",
      "execution_count": null,
      "metadata": {
        "colab": {
          "base_uri": "https://localhost:8080/"
        },
        "id": "9X2r4dSUvpk5",
        "outputId": "93f9effa-cfb8-43c0-8bcb-da58ca856547"
      },
      "outputs": [
        {
          "output_type": "execute_result",
          "data": {
            "text/plain": [
              "{7189: [7874],\n",
              " 16131: [5293],\n",
              " 41692: [5900, 7127],\n",
              " 45803: [4065, 799, 5212, 1663],\n",
              " 56414: [5920],\n",
              " 61026: [6636, 2225, 6350],\n",
              " 66709: [5310],\n",
              " 70353: [7649],\n",
              " 74281: [528, 7971],\n",
              " 84542: [5534],\n",
              " 115778: [6683, 6685, 6736, 6740, 6684, 6622],\n",
              " 128039: [6606, 6607],\n",
              " 130063: [6514, 2723, 1430, 6720, 6695, 6596, 6505, 7408],\n",
              " 141007: [6638, 1840],\n",
              " 154074: [8153],\n",
              " 171421: [5016, 5404],\n",
              " 176047: [7873],\n",
              " 182097: [2530],\n",
              " 188022: [8090],\n",
              " 202037: [7127, 5890, 5867],\n",
              " 212159: [2618, 5519, 5596],\n",
              " 238478: [4290],\n",
              " 245178: [5264],\n",
              " 251513: [7108, 7107],\n",
              " 253064: [4582],\n",
              " 253149: [5885, 5885, 7221],\n",
              " 255777: [6600, 6780, 6689, 5266],\n",
              " 257602: [409],\n",
              " 277862: [2194],\n",
              " 293011: [6623, 6607],\n",
              " 295229: [4315, 4142, 4121, 3443, 6546, 6184, 6548, 6739, 4135],\n",
              " 313988: [8360, 8397, 8350, 6177],\n",
              " 315852: [6511],\n",
              " 327128: [5212, 8041, 8038, 8040, 8039, 8042],\n",
              " 336891: [6548, 5587],\n",
              " 342258: [5870, 5870],\n",
              " 345964: [6721, 6720, 6599, 6721, 6599, 6720],\n",
              " 353196: [3736, 6689, 6720, 6688, 6680],\n",
              " 355006: [6877, 6720, 6688],\n",
              " 364742: [5890],\n",
              " 375516: [5597],\n",
              " 384182: [650],\n",
              " 391947: [2540, 6563],\n",
              " 394134: [6727, 4274, 6608],\n",
              " 398579: [6701, 6735],\n",
              " 408304: [6606],\n",
              " 421868: [6684, 6685],\n",
              " 437488: [2417],\n",
              " 438884: [3777],\n",
              " 442687: [6697, 1748],\n",
              " 450519: [6739],\n",
              " 454146: [5901],\n",
              " 468004: [8053, 8053],\n",
              " 478571: [4569, 5047, 8363, 3119, 8030, 8371, 8353],\n",
              " 496631: [5097, 5843],\n",
              " 509182: [5607],\n",
              " 512661: [5958],\n",
              " 523481: [6880, 2090],\n",
              " 552593: [8325, 4574],\n",
              " 556648: [6512],\n",
              " 570838: [7874],\n",
              " 597903: [7874],\n",
              " 614842: [6609, 6787, 6785],\n",
              " 633129: [6031],\n",
              " 661004: [5596, 6757, 6759, 6757],\n",
              " 688757: [114, 115, 116, 116, 114, 115],\n",
              " 699232: [2526],\n",
              " 701518: [6750, 6643],\n",
              " 703496: [485],\n",
              " 704016: [6060],\n",
              " 706771: [2931],\n",
              " 710512: [2002],\n",
              " 712428: [6740, 7894, 6882],\n",
              " 715509: [2546],\n",
              " 727279: [117],\n",
              " 727301: [7664, 7665, 7658],\n",
              " 733058: [7202, 6504],\n",
              " 737288: [575],\n",
              " 744543: [7084, 7082, 7080, 7083, 7101, 7081, 7085, 7102, 7099, 7100],\n",
              " 757279: [2368],\n",
              " 764818: [7132],\n",
              " 766361: [6597, 6504],\n",
              " 768901: [5855, 6783, 6781, 7915, 6841, 6751],\n",
              " 771317: [4149, 4149],\n",
              " 774614: [6684, 7108],\n",
              " 797261: [6608, 6622, 6609],\n",
              " 816489: [5513, 5514],\n",
              " 817427: [8113, 8132, 8372, 8251, 8215, 7737, 5054, 2636],\n",
              " 824252: [6759, 6759, 6740],\n",
              " 826021: [6780, 6736],\n",
              " 842749: [6757, 6757, 6759, 6759],\n",
              " 864679: [5939, 6643, 5862],\n",
              " 868772: [765],\n",
              " 874742: [4271, 4271],\n",
              " 876493: [92],\n",
              " 888121: [6782, 6757, 6758, 6643],\n",
              " 909544: [6111, 6383, 6417],\n",
              " 912652: [4576],\n",
              " 913237: [6938, 1162],\n",
              " 913633: [6683, 6686, 6030, 6684, 6853, 4359, 5176],\n",
              " 935539: [2526],\n",
              " 945021: [2257],\n",
              " 949326: [6607, 6622],\n",
              " 963548: [5532, 4148, 6093, 5522, 4148, 5522, 6093, 5532],\n",
              " 972167: [5087, 6888],\n",
              " 976893: [6560],\n",
              " 988094: [6248, 7216, 7198, 6646],\n",
              " 989368: [1076],\n",
              " 1023886: [6887, 6883, 6886],\n",
              " 1027533: [2959, 6882, 3783],\n",
              " 1036358: [6887, 6886],\n",
              " 1037703: [2861, 2848, 2878, 2861, 2848, 2878, 2848, 2861, 2878],\n",
              " 1057727: [1993, 5003],\n",
              " 1064316: [6884],\n",
              " 1066993: [6838, 2218],\n",
              " 1072389: [7118],\n",
              " 1075242: [3847],\n",
              " 1103928: [3732],\n",
              " 1148139: [1026, 5287],\n",
              " 1148707: [6427],\n",
              " 1197708: [7191],\n",
              " 1221326: [5293],\n",
              " 1245861: [5869, 5869],\n",
              " 1250258: [6464],\n",
              " 1253981: [5958],\n",
              " 1254959: [4496, 990, 1833],\n",
              " 1255594: [6548],\n",
              " 1260059: [6237],\n",
              " 1264239: [6768],\n",
              " 1286456: [6831, 5073, 6723, 7216],\n",
              " 1300979: [2110, 6600],\n",
              " 1310319: [8633],\n",
              " 1315112: [6248, 6143],\n",
              " 1319726: [6681, 7216, 6678, 7217],\n",
              " 1333261: [6836],\n",
              " 1344283: [6197, 8093, 4581],\n",
              " 1350124: [5867, 5867],\n",
              " 1351016: [8067],\n",
              " 1374419: [7217, 6681],\n",
              " 1414566: [5866, 5865],\n",
              " 1430849: [7217, 6847, 6681],\n",
              " 1436007: [7216, 7217, 6645, 6678],\n",
              " 1438952: [6831, 7213, 7212],\n",
              " 1444842: [6499],\n",
              " 1456139: [7216, 7217, 6681],\n",
              " 1477008: [402, 402],\n",
              " 1502276: [31],\n",
              " 1504386: [2844],\n",
              " 1524049: [6938],\n",
              " 1548411: [6239, 2211],\n",
              " 1548886: [6476, 4271],\n",
              " 1558518: [5761],\n",
              " 1565671: [5657],\n",
              " 1593012: [8504, 8505],\n",
              " 1596828: [7202],\n",
              " 1634192: [120],\n",
              " 1639036: [3736],\n",
              " 1675126: [5278],\n",
              " 1675433: [7217, 6681, 5596],\n",
              " 1691963: [371],\n",
              " 1714983: [6357, 6357],\n",
              " 1719823: [7198, 1580, 7217, 7216],\n",
              " 1726668: [6844, 6248, 7216, 6681, 7198, 6626, 6238, 6236, 6264, 6090],\n",
              " 1737034: [6863],\n",
              " 1767946: [6833, 7213],\n",
              " 1780878: [5459],\n",
              " 1795063: [7131, 5724, 3796, 6460, 3823, 219],\n",
              " 1806377: [6640],\n",
              " 1823323: [691, 5598, 6497],\n",
              " 1823694: [6892],\n",
              " 1831227: [158, 5726],\n",
              " 1832978: [6514],\n",
              " 1978448: [7389],\n",
              " 1982032: [6692],\n",
              " 2098416: [6642, 6750, 7216],\n",
              " 2109949: [6914],\n",
              " 2122527: [7646],\n",
              " 2123011: [6976, 6926, 6978, 6978, 6926, 6976],\n",
              " 2135031: [1997],\n",
              " 2163159: [31],\n",
              " 2190102: [6505, 6514, 6516],\n",
              " 2203976: [2265],\n",
              " 2211446: [8335, 8334],\n",
              " 2212939: [7272, 6974, 7277, 6771, 6681, 2263, 4488, 7257, 7198, 6897],\n",
              " 2218377: [6973],\n",
              " 2225051: [7025, 6981],\n",
              " 2226207: [1200],\n",
              " 2226938: [7502],\n",
              " 2232062: [6982],\n",
              " 2246981: [5664, 3039, 6576, 2961],\n",
              " 2253694: [6981, 7025],\n",
              " 2273327: [7027, 6984, 6985, 6984, 7027, 6985],\n",
              " 2282281: [1736, 1695],\n",
              " 2288671: [6981, 6984, 7025],\n",
              " 2296623: [6981, 7025, 6984, 7027],\n",
              " 2302324: [6983, 6985, 6982],\n",
              " 2304757: [6391, 6449, 6407],\n",
              " 2306537: [6981, 7026],\n",
              " 2311299: [6981, 6984, 7025, 6983],\n",
              " 2323887: [8505, 8497],\n",
              " 2324306: [6512, 6512],\n",
              " 2335668: [7212, 3276],\n",
              " 2340273: [6694, 6982, 7026, 6985, 5974, 4386, 2803],\n",
              " 2342711: [6248, 6840, 2218, 6739, 6780, 7031, 2153, 6642],\n",
              " 2366951: [7026, 6984],\n",
              " 2368282: [1246],\n",
              " 2368489: [10098],\n",
              " 2374514: [7025, 6981, 6984],\n",
              " 2396014: [4895],\n",
              " 2409328: [5171, 5171],\n",
              " 2416093: [6982, 6985, 5422],\n",
              " 2426906: [7026, 7502, 7352, 7353, 7348],\n",
              " 2432142: [4565, 8118],\n",
              " 2433002: [7503, 10098, 2093],\n",
              " 2452826: [6982, 6985],\n",
              " 2457488: [4548, 8110, 6357],\n",
              " 2470404: [6628, 6409],\n",
              " 2473087: [10098, 10098],\n",
              " 2484683: [6531],\n",
              " 2496712: [6680, 6680],\n",
              " 2501028: [10098, 10098],\n",
              " 2525104: [10098],\n",
              " 2537731: [6913, 6680],\n",
              " 2551201: [1547],\n",
              " 2551522: [83],\n",
              " 2551773: [6982, 6774, 2825, 6983, 5607, 7025, 8610],\n",
              " 2560549: [7288, 8685, 6715, 2499],\n",
              " 2610174: [1263],\n",
              " 2615246: [6981, 6983, 7026, 7030],\n",
              " 2620536: [7272],\n",
              " 2650091: [6981, 6983, 6985, 7025, 4386],\n",
              " 2663629: [5122],\n",
              " 2689683: [8446],\n",
              " 2748826: [6238],\n",
              " 2752477: [10098],\n",
              " 2777403: [162, 6427, 2573, 7028],\n",
              " 2795581: [7386, 2263, 8497],\n",
              " 2812352: [1141],\n",
              " 2819722: [3145],\n",
              " 2825687: [7285, 7681],\n",
              " 2845341: [7257, 6674, 7475, 7677, 7656, 7256, 2263],\n",
              " 2859453: [7146, 6248],\n",
              " 2868202: [6616, 6617, 6858, 6615],\n",
              " 2870328: [6981],\n",
              " 2873453: [173, 5005, 5003],\n",
              " 2887997: [10098],\n",
              " 2900172: [7681, 6891, 6891],\n",
              " 2910676: [807, 786],\n",
              " 2923724: [10098, 10098],\n",
              " 2938384: [1136],\n",
              " 2950028: [6831, 4718],\n",
              " 2956273: [6728, 7386, 6764],\n",
              " 2963401: [898],\n",
              " 2966077: [6417, 7387, 7680],\n",
              " 2982921: [7051, 7275, 6520],\n",
              " 2991279: [8090],\n",
              " 3001133: [8704],\n",
              " 3022632: [7834, 10098, 7217],\n",
              " 3033431: [7386, 7211, 2497, 7387, 7257, 6674],\n",
              " 3040753: [7047, 7049, 6898],\n",
              " 3043727: [7257, 7387, 6891],\n",
              " 3050244: [6512],\n",
              " 3055633: [6764, 6086, 563, 4909],\n",
              " 3063329: [6926],\n",
              " 3072889: [3744, 7256, 7257],\n",
              " 3141633: [3022, 3022],\n",
              " 3149521: [6550, 1766, 7595, 7272, 6961, 2733],\n",
              " 3171958: [2214, 5278],\n",
              " 3176704: [10098],\n",
              " 3192989: [2795],\n",
              " 3203057: [6852],\n",
              " 3226651: [8496],\n",
              " 3227569: [2153, 6894],\n",
              " 3271217: [4464],\n",
              " 3281814: [5519, 2218, 6143],\n",
              " 3368749: [7063],\n",
              " 3379539: [2066],\n",
              " 3445633: [2153, 6894],\n",
              " 3456041: [6730, 4698, 4690],\n",
              " 3501227: [7138],\n",
              " 3502438: [8015, 6962],\n",
              " 3513386: [6842, 6842],\n",
              " 3518636: [775, 7049, 7050],\n",
              " 3520001: [6504],\n",
              " 3523673: [7568],\n",
              " 3575659: [7583, 7583],\n",
              " 3579231: [2212],\n",
              " 3586664: [1947, 1950],\n",
              " 3590888: [7040],\n",
              " 3591207: [10098, 10098, 10098],\n",
              " 3612767: [7720, 7276, 6776, 6052],\n",
              " 3613636: [7964, 6505, 6927],\n",
              " 3615548: [4430],\n",
              " 3636509: [5426],\n",
              " 3637822: [10098],\n",
              " 3644383: [7720, 7597],\n",
              " 3644413: [7568],\n",
              " 3645708: [520, 6597],\n",
              " 3665627: [8973, 4290],\n",
              " 3669997: [1672, 1166],\n",
              " 3672967: [7289, 7594, 6948],\n",
              " 3711124: [7597],\n",
              " 3722618: [6431],\n",
              " 3723689: [6974],\n",
              " 3743526: [8260],\n",
              " 3754068: [8026, 7342, 6961],\n",
              " 3835716: [7597, 6776],\n",
              " 3869254: [5501],\n",
              " 3877063: [5607],\n",
              " 3878431: [1947, 7696],\n",
              " 3908152: [5547, 6766],\n",
              " 3909251: [6198],\n",
              " 3917971: [7256],\n",
              " 3918239: [7880, 7898],\n",
              " 3935144: [4290, 8495],\n",
              " 3975554: [6518, 6973, 7138, 2591],\n",
              " 3989544: [4269],\n",
              " 4002336: [2981],\n",
              " 4019778: [7601, 7898, 7720],\n",
              " 4028078: [6607, 7289, 6607, 7289],\n",
              " 4028377: [3727, 4062],\n",
              " 4030542: [8563, 8012, 7470],\n",
              " 4062161: [6791, 5176, 1073],\n",
              " 4206972: [7692, 7695, 7692],\n",
              " 4214294: [7701, 6463, 1595, 7702],\n",
              " 4216993: [6514, 6879, 6505],\n",
              " 4217406: [8797],\n",
              " 4246647: [8853],\n",
              " 4249113: [6262],\n",
              " 4267857: [7697, 6960, 7993, 8856, 8563, 2645],\n",
              " 4275414: [7697, 7692, 6982],\n",
              " 4278393: [7928, 7910, 1832],\n",
              " 4290563: [5824],\n",
              " 4311598: [2016, 2015, 2012, 1624, 4974, 2010, 1622],\n",
              " 4314624: [7928, 7928],\n",
              " 4323288: [7696, 7692],\n",
              " 4337767: [7999],\n",
              " 4338957: [8011, 8012, 8009, 8005, 8563],\n",
              " 4339591: [6094],\n",
              " 4351564: [8973, 4290],\n",
              " 4353278: [5243, 8562],\n",
              " 4358393: [7585, 7928, 8009, 6643, 2645],\n",
              " 4371352: [7119, 7160],\n",
              " 4371789: [5989],\n",
              " 4376542: [8053, 5918],\n",
              " 4383452: [6614, 134],\n",
              " 4384718: [8230, 8247, 6520],\n",
              " 4435123: [2017],\n",
              " 4480662: [6941, 2255],\n",
              " 4490667: [8461, 8021, 8002, 6946],\n",
              " 4498258: [467],\n",
              " 4505323: [7201, 7201, 7201, 7201, 7201, 7201, 7201],\n",
              " 4541631: [7928, 7053],\n",
              " 4543236: [1346, 5097],\n",
              " 4543839: [4564, 8256],\n",
              " 4550124: [7275, 3536, 7707],\n",
              " 4556588: [6248, 5740],\n",
              " 4566862: [7431, 7420, 8011],\n",
              " 4578046: [2659, 8563, 6981, 6985],\n",
              " 4607883: [6248],\n",
              " 4620022: [8919],\n",
              " 4643448: [6960, 8022],\n",
              " 4669818: [7679, 7422],\n",
              " 4694626: [7886, 6579, 6762, 6868],\n",
              " 4705053: [2336, 4063],\n",
              " 4719024: [5261, 8402],\n",
              " 4736736: [6915, 7388],\n",
              " 4744914: [8991],\n",
              " 4745386: [8260],\n",
              " 4774771: [6183, 3316],\n",
              " 4782537: [7913, 7912, 5522, 8006],\n",
              " 4787786: [8589, 6789, 8589],\n",
              " 4788157: [8563, 2659, 8009, 2218, 8012, 2645],\n",
              " 4817293: [7501, 7885],\n",
              " 4829979: [1870],\n",
              " 4840078: [7597, 6948, 6242],\n",
              " 4849951: [4029, 8812],\n",
              " 4855447: [31],\n",
              " 4860384: [4981, 190, 3270],\n",
              " 4868391: [7279],\n",
              " 4871103: [6509],\n",
              " 4872589: [7033, 7677, 8668],\n",
              " 4882252: [8011, 6975],\n",
              " 4914887: [87],\n",
              " 4923317: [7347],\n",
              " 4957912: [8563],\n",
              " 4985253: [6728],\n",
              " 4986028: [8919, 6729, 8919, 6729],\n",
              " 4989336: [7512, 7642, 7690, 7691, 7040],\n",
              " 4994609: [7691, 794, 7643],\n",
              " 5024788: [7288, 4473, 6849],\n",
              " 5062698: [8468, 7276, 7335, 7643, 6248],\n",
              " 5079978: [7040, 7037, 7040, 7037],\n",
              " 5122861: [7056, 6047, 4015, 7276, 7720],\n",
              " 5124986: [2811],\n",
              " 5127146: [7639, 4283, 7690],\n",
              " 5153193: [7987, 698, 694, 7698, 7137],\n",
              " 5156908: [8011, 8011, 1259, 7589],\n",
              " 5193661: [3536, 6587, 6588],\n",
              " 5206599: [8854, 8853, 1789],\n",
              " 5239827: [8488, 8482, 8490, 8481, 8474, 8469, 8622, 4302],\n",
              " 5256992: [7322, 7335],\n",
              " 5269757: [6762, 6773],\n",
              " 5277389: [4742, 7873],\n",
              " 5279597: [8487, 8490, 7642, 7323, 8021, 8481, 7335],\n",
              " 5298638: [8487, 6948, 7322, 8620, 7323, 7270],\n",
              " 5300464: [8621, 8621],\n",
              " 5326014: [6775, 8619],\n",
              " 5329766: [8260],\n",
              " 5337128: [2003],\n",
              " 5369541: [8470, 8468, 7056, 7642, 7054],\n",
              " 5369794: [7270, 7268, 7322, 6765],\n",
              " 5379179: [3536, 4015],\n",
              " 5385096: [5326],\n",
              " 5393071: [6119],\n",
              " 5393961: [1982],\n",
              " 5412339: [8785],\n",
              " 5413059: [1348, 8490, 8489],\n",
              " 5423529: [8623, 7289],\n",
              " 5424449: [5873],\n",
              " 5427978: [8488, 8487, 8474],\n",
              " 5438973: [7585, 6634, 2494],\n",
              " 5439471: [9361, 9360, 312],\n",
              " 5470496: [7090, 7068, 1138],\n",
              " 5471998: [4998, 4999, 1701],\n",
              " 5490547: [8469, 8489],\n",
              " 5513817: [7899, 200, 7289],\n",
              " 5538706: [2315],\n",
              " 5553138: [7318, 3592],\n",
              " 5556212: [6734],\n",
              " 5568143: [5522],\n",
              " 5585518: [8695,\n",
              "  8705,\n",
              "  8563,\n",
              "  8565,\n",
              "  8747,\n",
              "  8694,\n",
              "  8011,\n",
              "  6937,\n",
              "  8670,\n",
              "  9055,\n",
              "  6634,\n",
              "  8906,\n",
              "  8909,\n",
              "  8702,\n",
              "  8700,\n",
              "  8690],\n",
              " 5596489: [6166],\n",
              " 5609531: [8690, 8907, 8906, 8702, 8909, 8700],\n",
              " 5611324: [7473],\n",
              " 5619538: [6319],\n",
              " 5634834: [6431, 8474],\n",
              " 5636006: [370],\n",
              " 5647364: [8761, 9336, 9336],\n",
              " 5655733: [8822],\n",
              " 5658243: [8686, 8908],\n",
              " 5662813: [8597, 8598, 5788, 7386, 8489, 5789],\n",
              " 5693264: [6475, 8909],\n",
              " 5706604: [6008, 6008],\n",
              " 5707839: [8000],\n",
              " 5714893: [8698, 8698, 8697, 6734, 5269, 8678],\n",
              " 5722958: [5529, 5596, 7256, 8713, 8686, 8696, 6593],\n",
              " 5724486: [8702, 8700],\n",
              " 5728268: [7999],\n",
              " 5754702: [8583, 8619, 7720, 8617, 8576],\n",
              " 5780891: [8702, 8697, 8702, 8697],\n",
              " 5783868: [6842, 9338, 8777],\n",
              " 5786832: [8702, 9107],\n",
              " 5796923: [2629],\n",
              " 5807918: [6937, 8676, 8670],\n",
              " 5848701: [3204],\n",
              " 5864581: [3661, 8758],\n",
              " 5868024: [7993, 7719, 7387, 7720],\n",
              " 5883941: [8701, 8700],\n",
              " 5887501: [3676],\n",
              " 5901673: [208, 379],\n",
              " 5901964: [8050],\n",
              " 5910308: [6382, 8850],\n",
              " 5930873: [8448],\n",
              " 5931896: [50, 8769, 8758, 9037, 8780],\n",
              " 5941283: [8717, 8707],\n",
              " 5947104: [9333, 6514, 9338, 8993],\n",
              " 5952826: [7503],\n",
              " 5959634: [4204],\n",
              " 5962903: [7097, 8755, 8768, 7096],\n",
              " 5963551: [8777, 8754, 8779, 8794],\n",
              " 5978462: [2046],\n",
              " 5978638: [8773, 8790, 8777, 8682, 9336],\n",
              " 5988171: [9358],\n",
              " 6014168: [9107, 8771, 8707, 8796, 8777, 8773, 8772],\n",
              " 6040221: [6981, 6983],\n",
              " 6041896: [966, 4341, 922],\n",
              " 6050777: [9334, 9338, 8682],\n",
              " 6053728: [8764],\n",
              " 6059737: [3259],\n",
              " 6072789: [8714, 8683],\n",
              " 6127197: [1313, 1530],\n",
              " 6131527: [8796, 8773],\n",
              " 6140142: [2777, 6622],\n",
              " 6145001: [1395, 1929, 6014],\n",
              " 6150187: [7251],\n",
              " 6294981: [1143],\n",
              " 6297761: [8746, 1978, 8747],\n",
              " 6306262: [8771, 8771, 8958],\n",
              " 6307994: [9056, 9056, 9020, 9025],\n",
              " 6327181: [172],\n",
              " 6339239: [8930, 8800, 8923, 8920, 9013, 8958, 8799],\n",
              " 6342951: [5612],\n",
              " 6363817: [8923, 8920, 8930],\n",
              " 6364434: [2098],\n",
              " 6368434: [9022, 8954, 5448],\n",
              " 6390897: [8873, 9013, 8953, 5751],\n",
              " 6407946: [6148],\n",
              " 6410184: [3608, 6219, 9262],\n",
              " 6424801: [7498, 9021, 8795],\n",
              " 6455667: [9294],\n",
              " 6479643: [5424, 7884, 7905],\n",
              " 6483559: [5607, 5607, 5607],\n",
              " 6489811: [9054, 8964],\n",
              " 6490792: [8581, 9054],\n",
              " 6493299: [9036, 8993],\n",
              " 6511866: [6170, 8795, 7691],\n",
              " 6513189: [8949, 8988, 8986, 8996, 8964, 9018],\n",
              " 6519484: [8930, 8937, 9036, 9038],\n",
              " 6523033: [8954],\n",
              " 6524719: [9291],\n",
              " 6542038: [8931, 8923, 8923],\n",
              " 6545697: [8993, 8993],\n",
              " 6559192: [6780, 7257, 219],\n",
              " 6569762: [9089, 9090, 9091],\n",
              " 6591146: [9131, 9104, 9133, 9104, 7503],\n",
              " 6600751: [9022, 9024],\n",
              " 6612786: [7340],\n",
              " 6613791: [9015, 9040, 8708, 9039],\n",
              " 6631241: [687, 8596],\n",
              " 6650479: [8995, 8959],\n",
              " 6680644: [9022, 9024, 9021],\n",
              " 6691036: [9128],\n",
              " 6705869: [2640],\n",
              " 6708753: [9062, 8620],\n",
              " 6718723: [2785, 2785],\n",
              " 6733881: [1701, 9225, 1702],\n",
              " 6736931: [70, 70],\n",
              " 6747373: [33, 33],\n",
              " 6773159: [9054],\n",
              " 6773318: [8757],\n",
              " 6782486: [5866, 5901, 5901],\n",
              " 6792833: [9101, 9123, 9134],\n",
              " 6809794: [2540],\n",
              " 6821706: [5445, 9064, 5529, 9131, 8931, 1527, 9109, 8923, 8937, 8930],\n",
              " 6839173: [74, 6517],\n",
              " 6843606: [6238],\n",
              " 6848419: [8717],\n",
              " 6848569: [8789, 8771],\n",
              " 6876773: [7216, 6472],\n",
              " 6898457: [5872, 5871],\n",
              " 6906174: [9115, 7643, 9090],\n",
              " 6946019: [7212],\n",
              " 6971713: [8995, 9039, 9014],\n",
              " 6977227: [7038],\n",
              " 6991123: [5607],\n",
              " 6999827: [7130],\n",
              " 7017328: [9207, 9211, 9210, 9210],\n",
              " 7032832: [9124, 9126, 4918, 1768],\n",
              " 7051244: [9342, 9345, 9320, 9330, 8879],\n",
              " 7068099: [9208, 9183, 9184, 9184, 9215, 8564],\n",
              " 7069468: [8497],\n",
              " 7069651: [6612],\n",
              " 7109683: [7322],\n",
              " 7117373: [9197, 7379, 7059],\n",
              " 7129096: [9186, 9191, 9210, 9207, 9211, 6234, 9218, 9312, 7702],\n",
              " 7144141: [9038],\n",
              " 7155708: [4770],\n",
              " 7193154: [9193, 8487, 9215],\n",
              " 7215517: [1821, 9211, 9217, 8702],\n",
              " 7250266: [3204],\n",
              " 7274032: [9195],\n",
              " 7306516: [9193, 9197, 9190],\n",
              " 7314149: [9039, 9301],\n",
              " 7319658: [8972],\n",
              " 7353868: [9207, 9158, 8712, 8708],\n",
              " 7354719: [6831],\n",
              " 7360788: [3196, 3197],\n",
              " 7382658: [7968],\n",
              " 7385152: [501, 500],\n",
              " 7395348: [6155, 7009, 5610, 6482],\n",
              " 7442604: [9313, 1586, 8716],\n",
              " 7458138: [9556],\n",
              " 7465741: [9290, 9207],\n",
              " 7470964: [9301, 3536, 9305, 3742, 9310],\n",
              " 7471963: [5840, 6791, 1593, 6791, 1593, 5840, 6791, 1593, 5840],\n",
              " 7479582: [9183, 9215, 8474, 9193, 9202, 9184],\n",
              " 7498546: [9209, 9211, 9215],\n",
              " 7516398: [1807],\n",
              " 7533751: [5899, 5899, 5899],\n",
              " 7547109: [2268],\n",
              " 7565564: [6353],\n",
              " 7580957: [9426],\n",
              " 7599157: [8681, 9139, 9301],\n",
              " 7600124: [9313, 9301],\n",
              " 7630011: [4474],\n",
              " 7632016: [4201, 6690],\n",
              " 7632841: [9320, 9319],\n",
              " 7633786: [8497, 6609, 1129, 8486],\n",
              " 7667584: [9345],\n",
              " 7694508: [9307],\n",
              " 7697692: [5901, 5899, 8504, 5899, 5899, 5899, 5901, 8504],\n",
              " 7704434: [5954],\n",
              " 7724701: [9402, 5835, 8706, 6124, 461],\n",
              " 7728597: [5988],\n",
              " 7795309: [8702, 6981, 7025, 8698, 9215],\n",
              " 7846244: [208, 7635, 8512, 209],\n",
              " 7849816: [8708, 8986, 8986, 8708],\n",
              " 7851688: [8683, 8746, 6407],\n",
              " 7888097: [9433, 7322, 9398, 7322],\n",
              " 7896232: [9536, 6521],\n",
              " 7896749: [9400, 9397],\n",
              " 7946973: [7122],\n",
              " 7956864: [5349, 9897, 5728],\n",
              " 7971682: [9309, 9344],\n",
              " 7994349: [5890, 5869],\n",
              " 7998822: [7308],\n",
              " 8027418: [8907, 8619],\n",
              " 8027859: [9278],\n",
              " 8030517: [9307, 2786],\n",
              " 8053406: [9403, 9378, 4327],\n",
              " 8064344: [6150, 9440],\n",
              " 8067708: [9426],\n",
              " 8067781: [7669, 6770, 1896, 2753, 1903, 2749],\n",
              " 8068146: [5842, 9459, 9405, 9465, 9389, 9404, 4326],\n",
              " 8075118: [8325, 9207],\n",
              " 8076228: [9146, 9393],\n",
              " 8091863: [6169],\n",
              " 8104152: [9543, 9544],\n",
              " 8112616: [9433, 9398, 936, 9398, 9433, 936, 936, 9398, 9433, 9433, 9398, 936],\n",
              " 8124061: [9284, 8955, 6544],\n",
              " 8134127: [9393, 9460],\n",
              " 8134978: [8693],\n",
              " 8162649: [4101, 5608],\n",
              " 8168292: [9081, 2938, 9210],\n",
              " 8170388: [9394, 8762, 1766, 9365],\n",
              " 8185224: [5850, 9405, 5855],\n",
              " 8187036: [9399],\n",
              " 8195933: [4327, 5855, 5838, 9369, 9378],\n",
              " 8207452: [9509],\n",
              " 8216892: [1593, 9403, 9416, 9404, 9441],\n",
              " 8221503: [9392, 9404, 9405],\n",
              " 8222646: [9460, 9393, 9364, 5983, 9389],\n",
              " 8223578: [5842, 9369, 5855, 5838, 9392, 9404, 9382],\n",
              " 8237368: [9389, 9193, 9393],\n",
              " 8259453: [9417, 5727],\n",
              " 8261618: [2129, 8580],\n",
              " 8406508: [9392, 9369],\n",
              " 8407032: [9383, 1433, 9364],\n",
              " 8422538: [9414, 9431, 9384, 9414],\n",
              " 8469569: [8678],\n",
              " 8475538: [6349, 2786],\n",
              " 8499931: [9232, 7702],\n",
              " 8517514: [9526],\n",
              " 8519694: [9364, 9558, 9573, 9561],\n",
              " 8547678: [6475],\n",
              " 8559712: [9398],\n",
              " 8586262: [9457, 4327, 5838, 9369, 9378, 9403],\n",
              " 8593424: [4040],\n",
              " 8624718: [4671],\n",
              " 8626582: [9566, 1255, 9575],\n",
              " 8650681: [1404, 7912],\n",
              " 8651972: [9444, 9517, 9510, 9529],\n",
              " 8652352: [9536],\n",
              " 8686066: [9526, 9521, 9529, 9550, 9579, 9525, 9444],\n",
              " 8731289: [367],\n",
              " 8737396: [5866, 5900],\n",
              " 8743381: [9370, 7913, 6985],\n",
              " 8751908: [9540, 9477, 9319, 9563, 9574],\n",
              " 8762533: [9756, 953],\n",
              " 8773432: [9517, 9384, 9510],\n",
              " 8782431: [9516, 9530],\n",
              " 8784801: [5900],\n",
              " 8828897: [9526, 9529, 9521],\n",
              " 8844208: [6775],\n",
              " 8856034: [9579, 9525],\n",
              " 8874228: [9525],\n",
              " 8881534: [9509, 9509, 9525],\n",
              " 8884758: [9400, 9399, 9400, 9399, 9400, 9399],\n",
              " 8911617: [9568],\n",
              " 8954947: [8851, 8828, 734, 857],\n",
              " 8988423: [9342],\n",
              " 8989164: [9525, 9444, 9523, 9529],\n",
              " 9045161: [9576, 9478, 9558],\n",
              " 9063583: [4081, 4082, 4040],\n",
              " 9071367: [9552, 9417],\n",
              " 9072587: [1063],\n",
              " 9076176: [9509, 9462],\n",
              " 9083372: [4082, 4040, 9537, 9552, 9474, 2146],\n",
              " 9088339: [9231, 9232, 9578, 9231, 9232],\n",
              " 9093089: [9521, 9529, 9510, 9517, 9579],\n",
              " 9105658: [9619],\n",
              " 9107371: [1282, 9567, 9231],\n",
              " 9109914: [3465],\n",
              " 9122094: [9525, 9510, 8712],\n",
              " 9137642: [7347, 1282, 3928],\n",
              " 9146561: [9526, 9529, 9521, 9521],\n",
              " 9163943: [9665, 1529],\n",
              " 9172893: [9400],\n",
              " 9177339: [9509],\n",
              " 9180376: [9566, 9478, 5784, 7327, 9539],\n",
              " 9182198: [1616, 3922, 941],\n",
              " 9184487: [9803, 9568],\n",
              " 9190551: [9540],\n",
              " 9212726: [8770, 5795],\n",
              " 9214904: [7073, 7074, 7075],\n",
              " 9231294: [7036],\n",
              " 9242397: [5850, 9653, 4327],\n",
              " 9246869: [9645, 9647, 9669],\n",
              " 9277062: [50],\n",
              " 9314091: [6842, 448],\n",
              " 9315419: [9619, 9350, 9347, 9631],\n",
              " 9322717: [9394, 8757, 6934, 5404, 4273, 1423, 3518, 3278],\n",
              " 9333244: [9619],\n",
              " 9333403: [8975],\n",
              " 9343642: [9628, 9347, 9621, 9276],\n",
              " 9358568: [9350, 9619, 9631],\n",
              " 9364823: [5867],\n",
              " 9374699: [9350,\n",
              "  9548,\n",
              "  9610,\n",
              "  9348,\n",
              "  9548,\n",
              "  9348,\n",
              "  9350,\n",
              "  9610,\n",
              "  9548,\n",
              "  9348,\n",
              "  9350,\n",
              "  9610,\n",
              "  9350,\n",
              "  9610,\n",
              "  9348,\n",
              "  9548],\n",
              " 9376063: [1807],\n",
              " 9420944: [9620, 7029],\n",
              " 9440244: [9619, 9350, 9349],\n",
              " 9452658: [4200, 3779, 2155],\n",
              " 9462542: [7071, 7070, 7072, 8708],\n",
              " 9499458: [4149],\n",
              " 9510086: [9710, 9679, 9646, 9645, 9602, 9656, 9619, 9718],\n",
              " 9521053: [9718, 9679, 9710, 9330],\n",
              " 9541709: [8762, 8914],\n",
              " 9547901: [9426],\n",
              " 9583964: [9619, 3779, 4307, 7697, 9623],\n",
              " 9625748: [6242, 9719],\n",
              " 9641101: [8705, 9460, 9669, 8959, 8707, 9649, 9045, 8672],\n",
              " 9643651: [7705],\n",
              " 9645433: [6967],\n",
              " 9661768: [9517],\n",
              " 9668041: [8751, 8923, 5307, 9632, 9013, 8751, 8923, 5307, 9632, 9013],\n",
              " 9683339: [9619, 5520, 9350],\n",
              " 9683558: [9628, 9347],\n",
              " 9691109: [7758],\n",
              " 9692691: [9619],\n",
              " 9699321: [9529, 9521],\n",
              " 9729936: [9579],\n",
              " 9730766: [7122, 5848],\n",
              " 9749931: [7930],\n",
              " 9782697: [9384, 9545],\n",
              " 9785459: [9521, 9529, 9567],\n",
              " 9812748: [1155, 7253],\n",
              " 9816088: [8995, 8743, 2008, 2218],\n",
              " 9874446: [9692],\n",
              " 9890418: [5873],\n",
              " 9929019: [9997, 5607],\n",
              " 9932698: [1495, 977],\n",
              " 9933487: [9751, 9656, 6031],\n",
              " 9964908: [9690],\n",
              " 9977514: [9660, 9692],\n",
              " 9978174: [9523, 9444],\n",
              " 9981446: [9525],\n",
              " 9994611: [4315, 8259, 4315, 8259],\n",
              " 10002149: [6440, 9597, 9773, 9774, 9767, 9738, 9782, 9790, 9722, 9820],\n",
              " 10003391: [9773, 9533, 9751, 6547, 9679, 9626, 9299],\n",
              " 10009176: [9596, 9615],\n",
              " 10012572: [9753, 9765, 9732],\n",
              " 10045608: [3906, 9709, 9779, 7793],\n",
              " 10045757: [6029],\n",
              " 10047787: [9533, 9773, 9577, 9750, 9765, 9732],\n",
              " 10056348: [840],\n",
              " 10072637: [9651, 5014, 9652, 5016, 6124, 9647, 9645, 9602, 5916, 9304, 9702],\n",
              " 10080371: [6234, 5910],\n",
              " 10087009: [9537, 9552, 8994, 9475],\n",
              " 10088996: [4149],\n",
              " 10101506: [9128],\n",
              " 10105479: [6981, 6983],\n",
              " 10111656: [9669, 9646],\n",
              " 10118162: [9753, 9765, 9732],\n",
              " 10118234: [6031, 6060],\n",
              " 10138044: [9656, 9702, 9660],\n",
              " 10150489: [9660, 9669, 2209, 2047],\n",
              " 10166954: [9646, 9647, 9652, 9669],\n",
              " 10169462: [8149, 9934],\n",
              " 10196282: [9773, 9577, 9787, 9750, 9751],\n",
              " 10211017: [9054, 5518, 8698],\n",
              " 10212644: [9585, 8931, 9611, 9360, 2041, 9364, 5172, 9035],\n",
              " 10218258: [9628, 9217],\n",
              " 10220531: [9660, 9652, 3739],\n",
              " 10221766: [467, 467],\n",
              " 10237676: [9201],\n",
              " 10259313: [9528, 9867, 9533, 9830],\n",
              " 10267741: [9440],\n",
              " 10284498: [5122],\n",
              " 10303387: [9661],\n",
              " 10334557: [3330, 6856],\n",
              " 10355752: [10075, 9739],\n",
              " 10371679: [9773, 9751, 9533],\n",
              " 10517149: [9772, 9778],\n",
              " 10524002: [7498],\n",
              " 10548617: [9127, 9059, 8923, 1556, 9612],\n",
              " 10550916: [10075, 8802, 4291, 8859, 3628],\n",
              " 10564939: [6440, 9739, 9791],\n",
              " 10624058: [9345, 9344],\n",
              " 10628002: [9730],\n",
              " 10645312: [9509],\n",
              " 10672446: [1658, 9734, 1660, 9733, 1406],\n",
              " 10679783: [5995, 4960],\n",
              " 10720552: [9761, 9687],\n",
              " 10725354: [6139],\n",
              " 10739853: [8762],\n",
              " 10739966: [9753, 7666, 9719],\n",
              " 10755214: [500, 4665],\n",
              " 10786147: [9997],\n",
              " 10799329: [9835, 9855],\n",
              " 10813891: [9528, 9853, 9852, 9867],\n",
              " 10814394: [9773, 1659, 9787, 9533],\n",
              " 10822638: [9528, 9852, 9647, 9669],\n",
              " 10844308: [71],\n",
              " 10875878: [9538, 500],\n",
              " 10912858: [9051],\n",
              " 10924449: [9949, 9969],\n",
              " 10926271: [9528, 9829],\n",
              " 10936731: [6001],\n",
              " 10951681: [9970, 7251],\n",
              " 10955559: [9852, 9527, 9830],\n",
              " 10958953: [9528, 9831, 9823, 9857],\n",
              " 10960274: [7920],\n",
              " 10962056: [9527, 9527, 9829, 9829, 9832],\n",
              " 10981276: [9527, 9852],\n",
              " 11003019: [9528, 9852, 9831, 9834, 10092, 9853],\n",
              " 11008117: [9877],\n",
              " 11027007: [8788],\n",
              " 11038197: [4405],\n",
              " 11064537: [9664],\n",
              " 11084944: [9528, 9528, 5744, 9830, 10092, 9853],\n",
              " 11086911: [9528, 9831, 9867],\n",
              " 11104047: [1895, 5610],\n",
              " 11108433: [9813, 9813, 9813],\n",
              " 11120098: [9855, 9807, 10013, 9998, 9696],\n",
              " 11132148: [9745, 9519, 9519],\n",
              " 11156076: [9444, 9585],\n",
              " 11170143: [8613, 7913],\n",
              " 11209169: [9528, 9852, 10092],\n",
              " 11219063: [9976, 9975, 9861, 9973],\n",
              " 11222673: [9664, 9664],\n",
              " 11229962: [5801, 9520, 9480, 9842, 9851, 9869],\n",
              " 11232171: [9749],\n",
              " 11253911: [9528, 10092],\n",
              " 11268793: [10057, 9951, 9788, 9739, 6440],\n",
              " 11285098: [5610, 6154, 9811, 10076],\n",
              " 11304762: [9933, 9969, 9948, 9975],\n",
              " 11310696: [10031, 10039, 10012, 10023, 4491, 10029],\n",
              " 11313582: [5122],\n",
              " 11314172: [9866, 5727, 977, 8513, 7635, 3658],\n",
              " 11328622: [9996],\n",
              " 11368072: [10011, 10028, 10007, 10049, 10050, 9932, 10008, 10051, 10055],\n",
              " 11378603: [7278, 7278],\n",
              " 11380583: [10040, 9931, 3098, 6397, 6387],\n",
              " 11396019: [9593, 9593],\n",
              " 11414564: [9657, 9863, 9902, 10092],\n",
              " 11422733: [9713],\n",
              " 11433901: [9975, 9973],\n",
              " 11452012: [405],\n",
              " 11497871: [5808, 7868, 7291, 5806, 9732, 5807],\n",
              " 11507134: [76, 9811],\n",
              " 11519726: [5354],\n",
              " 11534911: [9976, 9973],\n",
              " 11540173: [8600],\n",
              " 11553871: [9030, 9214, 9975, 10003, 5968]}"
            ]
          },
          "metadata": {},
          "execution_count": 15
        }
      ],
      "source": [
        "# Get item dictionary with grouping by session\n",
        "buy_item_dict = dict(buy_df.groupby('session_id')['item_id'].apply(list))\n",
        "buy_item_dict"
      ]
    },
    {
      "cell_type": "markdown",
      "metadata": {
        "id": "TmAIvMxdqULc"
      },
      "source": [
        "### Сборка выборки для обучения"
      ]
    },
    {
      "cell_type": "code",
      "execution_count": null,
      "metadata": {
        "id": "RP25OdIWvpk6"
      },
      "outputs": [],
      "source": [
        "# Transform df into tensor data\n",
        "def transform_dataset(df, buy_item_dict):\n",
        "    data_list = []\n",
        "\n",
        "    # Group by session\n",
        "    grouped = df.groupby('session_id')\n",
        "    for session_id, group in tqdm(grouped):    \n",
        "        le = LabelEncoder()\n",
        "        sess_item_id = le.fit_transform(group.item_id)\n",
        "        group = group.reset_index(drop=True)\n",
        "        group['sess_item_id'] = sess_item_id\n",
        "\n",
        "        #get input features\n",
        "        node_features = group.loc[group.session_id==session_id,\n",
        "                                    ['sess_item_id','item_id','category']].sort_values('sess_item_id')[['item_id','category']].drop_duplicates().values\n",
        "        node_features = torch.LongTensor(node_features).unsqueeze(1)\n",
        "        target_nodes = group.sess_item_id.values[1:]\n",
        "        source_nodes = group.sess_item_id.values[:-1]\n",
        "\n",
        "        edge_index = torch.tensor([source_nodes,\n",
        "                                target_nodes], dtype=torch.long)\n",
        "        x = node_features\n",
        "\n",
        "        #get result\n",
        "        if session_id in buy_item_dict:\n",
        "            positive_indices = le.transform(buy_item_dict[session_id])\n",
        "            label = np.zeros(len(node_features))\n",
        "            label[positive_indices] = 1\n",
        "        else:\n",
        "            label = [0] * len(node_features)\n",
        "\n",
        "        y = torch.FloatTensor(label)\n",
        "\n",
        "        data = Data(x=x, edge_index=edge_index, y=y)\n",
        "\n",
        "        data_list.append(data)\n",
        "    \n",
        "    return data_list\n",
        "\n",
        "# Pytorch class for creating datasets\n",
        "class YooChooseDataset(InMemoryDataset):\n",
        "    def __init__(self, root, transform=None, pre_transform=None):\n",
        "        super(YooChooseDataset, self).__init__(root, transform, pre_transform)\n",
        "        self.data, self.slices = torch.load(self.processed_paths[0])\n",
        "\n",
        "    @property\n",
        "    def raw_file_names(self):\n",
        "        return []\n",
        "\n",
        "    @property\n",
        "    def processed_file_names(self):\n",
        "        return [BASE_DIR+'yoochoose_click_binary_100000_sess.dataset']\n",
        "\n",
        "    def download(self):\n",
        "        pass\n",
        "    \n",
        "    def process(self):\n",
        "        data_list = transform_dataset(df, buy_item_dict)\n",
        "        \n",
        "        data, slices = self.collate(data_list)\n",
        "        torch.save((data, slices), self.processed_paths[0])"
      ]
    },
    {
      "cell_type": "code",
      "execution_count": null,
      "metadata": {
        "id": "Tqy60yNSvpk7",
        "scrolled": true,
        "colab": {
          "base_uri": "https://localhost:8080/"
        },
        "outputId": "3f17216d-680d-4fef-e704-e40b6b4bb4f6"
      },
      "outputs": [
        {
          "output_type": "stream",
          "name": "stderr",
          "text": [
            "Processing...\n",
            "  0%|          | 0/10000 [00:00<?, ?it/s]/usr/local/lib/python3.7/dist-packages/ipykernel_launcher.py:21: UserWarning: Creating a tensor from a list of numpy.ndarrays is extremely slow. Please consider converting the list to a single numpy.ndarray with numpy.array() before converting to a tensor. (Triggered internally at  ../torch/csrc/utils/tensor_new.cpp:210.)\n",
            "100%|██████████| 10000/10000 [00:34<00:00, 291.49it/s]\n",
            "Done!\n"
          ]
        }
      ],
      "source": [
        "# Prepare dataset\n",
        "dataset = YooChooseDataset('./')"
      ]
    },
    {
      "cell_type": "markdown",
      "metadata": {
        "id": "u_1Zs9NvGnl9"
      },
      "source": [
        "### Разделение выборки"
      ]
    },
    {
      "cell_type": "code",
      "execution_count": null,
      "metadata": {
        "id": "7dSv_845vpk8",
        "colab": {
          "base_uri": "https://localhost:8080/"
        },
        "outputId": "b7eaced4-a278-4d03-e090-fe7bbf6ffd4e"
      },
      "outputs": [
        {
          "output_type": "execute_result",
          "data": {
            "text/plain": [
              "(8000, 1000, 1000)"
            ]
          },
          "metadata": {},
          "execution_count": 18
        }
      ],
      "source": [
        "# train_test_split\n",
        "dataset = dataset.shuffle()\n",
        "one_tenth_length = int(len(dataset) * 0.1)\n",
        "train_dataset = dataset[:one_tenth_length * 8]\n",
        "val_dataset = dataset[one_tenth_length*8:one_tenth_length * 9]\n",
        "test_dataset = dataset[one_tenth_length*9:]\n",
        "len(train_dataset), len(val_dataset), len(test_dataset)"
      ]
    },
    {
      "cell_type": "code",
      "execution_count": null,
      "metadata": {
        "colab": {
          "base_uri": "https://localhost:8080/"
        },
        "id": "fX2R64sbvpk8",
        "outputId": "033ef96b-82cb-4df5-deb4-dadb037a415e"
      },
      "outputs": [
        {
          "output_type": "stream",
          "name": "stderr",
          "text": [
            "/usr/local/lib/python3.7/dist-packages/torch_geometric/deprecation.py:12: UserWarning: 'data.DataLoader' is deprecated, use 'loader.DataLoader' instead\n",
            "  warnings.warn(out)\n"
          ]
        }
      ],
      "source": [
        "# Load dataset into PyG loaders \n",
        "batch_size= 512\n",
        "train_loader = DataLoader(train_dataset, batch_size=batch_size)\n",
        "val_loader = DataLoader(val_dataset, batch_size=batch_size)\n",
        "test_loader = DataLoader(test_dataset, batch_size=batch_size)"
      ]
    },
    {
      "cell_type": "code",
      "execution_count": null,
      "metadata": {
        "id": "jd9yGefWvpk9",
        "colab": {
          "base_uri": "https://localhost:8080/"
        },
        "outputId": "16919218-43cd-4d3a-816f-02eb9f849e9f"
      },
      "outputs": [
        {
          "output_type": "execute_result",
          "data": {
            "text/plain": [
              "(10099, 39)"
            ]
          },
          "metadata": {},
          "execution_count": 20
        }
      ],
      "source": [
        "# Load dataset into PyG loaders \n",
        "num_items = df.item_id.max() +1\n",
        "num_categories = df.category.max()+1\n",
        "num_items , num_categories"
      ]
    },
    {
      "cell_type": "markdown",
      "source": [
        "### Настройка модели для обучения"
      ],
      "metadata": {
        "id": "5W6ZJ5me56NG"
      }
    },
    {
      "cell_type": "code",
      "execution_count": null,
      "metadata": {
        "id": "QxL-VRxvvpk9"
      },
      "outputs": [],
      "source": [
        "embed_dim = 128\n",
        "from torch_geometric.nn import GraphConv, TopKPooling, GatedGraphConv, SAGEConv, SGConv\n",
        "from torch_geometric.nn import global_mean_pool as gap, global_max_pool as gmp\n",
        "import torch.nn.functional as F\n",
        "\n",
        "class Net(torch.nn.Module):\n",
        "    def __init__(self):\n",
        "        super(Net, self).__init__()\n",
        "        # Model Structure\n",
        "        self.conv1 = GraphConv(embed_dim * 2, 128)\n",
        "        self.pool1 = TopKPooling(128, ratio=0.9)\n",
        "        self.conv2 = GraphConv(128, 128)\n",
        "        self.pool2 = TopKPooling(128, ratio=0.9)\n",
        "        self.conv3 = GraphConv(128, 128)\n",
        "        self.pool3 = TopKPooling(128, ratio=0.9)\n",
        "        self.item_embedding = torch.nn.Embedding(num_embeddings=num_items, embedding_dim=embed_dim)\n",
        "        self.category_embedding = torch.nn.Embedding(num_embeddings=num_categories, embedding_dim=embed_dim)        \n",
        "        self.lin1 = torch.nn.Linear(256, 256)\n",
        "        self.lin2 = torch.nn.Linear(256, 128)\n",
        "        self.bn1 = torch.nn.BatchNorm1d(128)\n",
        "        self.bn2 = torch.nn.BatchNorm1d(64)\n",
        "        self.act1 = torch.nn.ReLU()\n",
        "        self.act2 = torch.nn.ReLU()        \n",
        "  \n",
        "    # Forward step of a model\n",
        "    def forward(self, data):\n",
        "        x, edge_index, batch = data.x, data.edge_index, data.batch\n",
        "        \n",
        "        item_id = x[:,:,0]\n",
        "        category = x[:,:,1]\n",
        "        \n",
        "\n",
        "        emb_item = self.item_embedding(item_id).squeeze(1)\n",
        "        emb_category = self.category_embedding(category).squeeze(1)\n",
        "        \n",
        "        x = torch.cat([emb_item, emb_category], dim=1)  \n",
        "        # print(x.shape)\n",
        "        x = F.relu(self.conv1(x, edge_index))\n",
        "        # print(x.shape)\n",
        "        r = self.pool1(x, edge_index, None, batch)\n",
        "        # print(r)\n",
        "        x, edge_index, _, batch, _, _ = self.pool1(x, edge_index, None, batch)\n",
        "        x1 = torch.cat([gmp(x, batch), gap(x, batch)], dim=1)\n",
        "\n",
        "        x = F.relu(self.conv2(x, edge_index))\n",
        "     \n",
        "        x, edge_index, _, batch, _, _ = self.pool2(x, edge_index, None, batch)\n",
        "        x2 = torch.cat([gmp(x, batch), gap(x, batch)], dim=1)\n",
        "\n",
        "        x = F.relu(self.conv3(x, edge_index))\n",
        "\n",
        "        x, edge_index, _, batch, _, _ = self.pool3(x, edge_index, None, batch)\n",
        "        x3 = torch.cat([gmp(x, batch), gap(x, batch)], dim=1)\n",
        "\n",
        "        x = x1 + x2 + x3\n",
        "\n",
        "        x = self.lin1(x)\n",
        "        x = self.act1(x)\n",
        "        x = self.lin2(x)\n",
        "        x = F.dropout(x, p=0.5, training=self.training)\n",
        "        x = self.act2(x)      \n",
        "        \n",
        "        outputs = []\n",
        "        for i in range(x.size(0)):\n",
        "            output = torch.matmul(emb_item[data.batch == i], x[i,:])\n",
        "\n",
        "            outputs.append(output)\n",
        "              \n",
        "        x = torch.cat(outputs, dim=0)\n",
        "        x = torch.sigmoid(x)\n",
        "        \n",
        "        return x"
      ]
    },
    {
      "cell_type": "markdown",
      "source": [
        "### Обучение нейронной сверточной сети"
      ],
      "metadata": {
        "id": "dXOBVplS3yoV"
      }
    },
    {
      "cell_type": "code",
      "execution_count": null,
      "metadata": {
        "id": "UctJnSw_vXru"
      },
      "outputs": [],
      "source": [
        "# Enable CUDA computing\n",
        "device = torch.device('cuda')\n",
        "model = Net().to(device)\n",
        "# Choose optimizer and criterion for learning\n",
        "optimizer = torch.optim.Adam(model.parameters(), lr=0.002)\n",
        "crit = torch.nn.BCELoss()"
      ]
    },
    {
      "cell_type": "code",
      "execution_count": null,
      "metadata": {
        "id": "z-YOFBxAvpk9"
      },
      "outputs": [],
      "source": [
        "# Train function\n",
        "def train():\n",
        "    model.train()\n",
        "\n",
        "    loss_all = 0\n",
        "    for data in train_loader:\n",
        "        data = data.to(device)\n",
        "        optimizer.zero_grad()\n",
        "        output = model(data)\n",
        "\n",
        "        label = data.y.to(device)\n",
        "        loss = crit(output, label)\n",
        "        loss.backward()\n",
        "        loss_all += data.num_graphs * loss.item()\n",
        "        optimizer.step()\n",
        "    return loss_all / len(train_dataset)"
      ]
    },
    {
      "cell_type": "code",
      "execution_count": null,
      "metadata": {
        "id": "bjl2k0ixvpk-"
      },
      "outputs": [],
      "source": [
        "# Evaluate result of a model\n",
        "from sklearn.metrics import roc_auc_score\n",
        "def evaluate(loader):\n",
        "    model.eval()\n",
        "\n",
        "    predictions = []\n",
        "    labels = []\n",
        "\n",
        "    with torch.no_grad():\n",
        "        for data in loader:\n",
        "\n",
        "            data = data.to(device)\n",
        "            pred = model(data).detach().cpu().numpy()\n",
        "\n",
        "            label = data.y.detach().cpu().numpy()\n",
        "            predictions.append(pred)\n",
        "            labels.append(label)\n",
        "\n",
        "    predictions = np.hstack(predictions)\n",
        "    labels = np.hstack(labels)\n",
        "    \n",
        "    return roc_auc_score(labels, predictions)"
      ]
    },
    {
      "cell_type": "code",
      "execution_count": null,
      "metadata": {
        "id": "jQVIFRgXvpk-",
        "scrolled": true,
        "colab": {
          "base_uri": "https://localhost:8080/"
        },
        "outputId": "a36b0131-ad42-4b01-b8f1-015be6e0849f"
      },
      "outputs": [
        {
          "output_type": "stream",
          "name": "stderr",
          "text": [
            "  3%|▎         | 1/30 [00:08<03:53,  8.05s/it]"
          ]
        },
        {
          "output_type": "stream",
          "name": "stdout",
          "text": [
            "Epoch: 000, Loss: 0.77482, Train Auc: 0.51656, Val Auc: 0.48422, Test Auc: 0.49989\n"
          ]
        },
        {
          "output_type": "stream",
          "name": "stderr",
          "text": [
            "\r  7%|▋         | 2/30 [00:15<03:32,  7.59s/it]"
          ]
        },
        {
          "output_type": "stream",
          "name": "stdout",
          "text": [
            "Epoch: 001, Loss: 0.71011, Train Auc: 0.51969, Val Auc: 0.49152, Test Auc: 0.48564\n"
          ]
        },
        {
          "output_type": "stream",
          "name": "stderr",
          "text": [
            "\r 10%|█         | 3/30 [00:22<03:20,  7.42s/it]"
          ]
        },
        {
          "output_type": "stream",
          "name": "stdout",
          "text": [
            "Epoch: 002, Loss: 0.68600, Train Auc: 0.53608, Val Auc: 0.52194, Test Auc: 0.45473\n"
          ]
        },
        {
          "output_type": "stream",
          "name": "stderr",
          "text": [
            "\r 13%|█▎        | 4/30 [00:29<03:12,  7.39s/it]"
          ]
        },
        {
          "output_type": "stream",
          "name": "stdout",
          "text": [
            "Epoch: 003, Loss: 0.64709, Train Auc: 0.54575, Val Auc: 0.51009, Test Auc: 0.48483\n"
          ]
        },
        {
          "output_type": "stream",
          "name": "stderr",
          "text": [
            "\r 17%|█▋        | 5/30 [00:37<03:03,  7.34s/it]"
          ]
        },
        {
          "output_type": "stream",
          "name": "stdout",
          "text": [
            "Epoch: 004, Loss: 0.60906, Train Auc: 0.57162, Val Auc: 0.53880, Test Auc: 0.51775\n"
          ]
        },
        {
          "output_type": "stream",
          "name": "stderr",
          "text": [
            "\r 20%|██        | 6/30 [00:44<02:56,  7.37s/it]"
          ]
        },
        {
          "output_type": "stream",
          "name": "stdout",
          "text": [
            "Epoch: 005, Loss: 0.57585, Train Auc: 0.57618, Val Auc: 0.55123, Test Auc: 0.50275\n"
          ]
        },
        {
          "output_type": "stream",
          "name": "stderr",
          "text": [
            "\r 23%|██▎       | 7/30 [00:51<02:48,  7.34s/it]"
          ]
        },
        {
          "output_type": "stream",
          "name": "stdout",
          "text": [
            "Epoch: 006, Loss: 0.54121, Train Auc: 0.60232, Val Auc: 0.55214, Test Auc: 0.48655\n"
          ]
        },
        {
          "output_type": "stream",
          "name": "stderr",
          "text": [
            "\r 27%|██▋       | 8/30 [00:59<02:40,  7.29s/it]"
          ]
        },
        {
          "output_type": "stream",
          "name": "stdout",
          "text": [
            "Epoch: 007, Loss: 0.51366, Train Auc: 0.63360, Val Auc: 0.57024, Test Auc: 0.49352\n"
          ]
        },
        {
          "output_type": "stream",
          "name": "stderr",
          "text": [
            "\r 30%|███       | 9/30 [01:07<02:37,  7.51s/it]"
          ]
        },
        {
          "output_type": "stream",
          "name": "stdout",
          "text": [
            "Epoch: 008, Loss: 0.49416, Train Auc: 0.64595, Val Auc: 0.55466, Test Auc: 0.49792\n"
          ]
        },
        {
          "output_type": "stream",
          "name": "stderr",
          "text": [
            "\r 33%|███▎      | 10/30 [01:14<02:29,  7.46s/it]"
          ]
        },
        {
          "output_type": "stream",
          "name": "stdout",
          "text": [
            "Epoch: 009, Loss: 0.47487, Train Auc: 0.66688, Val Auc: 0.55910, Test Auc: 0.49562\n"
          ]
        },
        {
          "output_type": "stream",
          "name": "stderr",
          "text": [
            "\r 37%|███▋      | 11/30 [01:21<02:20,  7.40s/it]"
          ]
        },
        {
          "output_type": "stream",
          "name": "stdout",
          "text": [
            "Epoch: 010, Loss: 0.45819, Train Auc: 0.69108, Val Auc: 0.57592, Test Auc: 0.50079\n"
          ]
        },
        {
          "output_type": "stream",
          "name": "stderr",
          "text": [
            "\r 40%|████      | 12/30 [01:28<02:11,  7.31s/it]"
          ]
        },
        {
          "output_type": "stream",
          "name": "stdout",
          "text": [
            "Epoch: 011, Loss: 0.45138, Train Auc: 0.70885, Val Auc: 0.57731, Test Auc: 0.51225\n"
          ]
        },
        {
          "output_type": "stream",
          "name": "stderr",
          "text": [
            "\r 43%|████▎     | 13/30 [01:35<02:04,  7.30s/it]"
          ]
        },
        {
          "output_type": "stream",
          "name": "stdout",
          "text": [
            "Epoch: 012, Loss: 0.43603, Train Auc: 0.72012, Val Auc: 0.56193, Test Auc: 0.50717\n"
          ]
        },
        {
          "output_type": "stream",
          "name": "stderr",
          "text": [
            "\r 47%|████▋     | 14/30 [01:43<01:56,  7.27s/it]"
          ]
        },
        {
          "output_type": "stream",
          "name": "stdout",
          "text": [
            "Epoch: 013, Loss: 0.42780, Train Auc: 0.74507, Val Auc: 0.56002, Test Auc: 0.51982\n"
          ]
        },
        {
          "output_type": "stream",
          "name": "stderr",
          "text": [
            "\r 50%|█████     | 15/30 [01:50<01:48,  7.25s/it]"
          ]
        },
        {
          "output_type": "stream",
          "name": "stdout",
          "text": [
            "Epoch: 014, Loss: 0.41499, Train Auc: 0.76193, Val Auc: 0.56542, Test Auc: 0.51138\n"
          ]
        },
        {
          "output_type": "stream",
          "name": "stderr",
          "text": [
            "\r 53%|█████▎    | 16/30 [01:57<01:41,  7.25s/it]"
          ]
        },
        {
          "output_type": "stream",
          "name": "stdout",
          "text": [
            "Epoch: 015, Loss: 0.40590, Train Auc: 0.78428, Val Auc: 0.56746, Test Auc: 0.52130\n"
          ]
        },
        {
          "output_type": "stream",
          "name": "stderr",
          "text": [
            "\r 57%|█████▋    | 17/30 [02:04<01:33,  7.23s/it]"
          ]
        },
        {
          "output_type": "stream",
          "name": "stdout",
          "text": [
            "Epoch: 016, Loss: 0.38678, Train Auc: 0.79328, Val Auc: 0.56112, Test Auc: 0.51715\n"
          ]
        },
        {
          "output_type": "stream",
          "name": "stderr",
          "text": [
            "\r 60%|██████    | 18/30 [02:12<01:26,  7.23s/it]"
          ]
        },
        {
          "output_type": "stream",
          "name": "stdout",
          "text": [
            "Epoch: 017, Loss: 0.38136, Train Auc: 0.81786, Val Auc: 0.56870, Test Auc: 0.51299\n"
          ]
        },
        {
          "output_type": "stream",
          "name": "stderr",
          "text": [
            "\r 63%|██████▎   | 19/30 [02:19<01:18,  7.17s/it]"
          ]
        },
        {
          "output_type": "stream",
          "name": "stdout",
          "text": [
            "Epoch: 018, Loss: 0.36825, Train Auc: 0.83982, Val Auc: 0.56547, Test Auc: 0.51840\n"
          ]
        },
        {
          "output_type": "stream",
          "name": "stderr",
          "text": [
            "\r 67%|██████▋   | 20/30 [02:26<01:11,  7.15s/it]"
          ]
        },
        {
          "output_type": "stream",
          "name": "stdout",
          "text": [
            "Epoch: 019, Loss: 0.35655, Train Auc: 0.85414, Val Auc: 0.57431, Test Auc: 0.51164\n"
          ]
        },
        {
          "output_type": "stream",
          "name": "stderr",
          "text": [
            "\r 70%|███████   | 21/30 [02:33<01:04,  7.11s/it]"
          ]
        },
        {
          "output_type": "stream",
          "name": "stdout",
          "text": [
            "Epoch: 020, Loss: 0.34592, Train Auc: 0.87007, Val Auc: 0.58486, Test Auc: 0.51821\n"
          ]
        },
        {
          "output_type": "stream",
          "name": "stderr",
          "text": [
            "\r 73%|███████▎  | 22/30 [02:40<00:56,  7.11s/it]"
          ]
        },
        {
          "output_type": "stream",
          "name": "stdout",
          "text": [
            "Epoch: 021, Loss: 0.34278, Train Auc: 0.88075, Val Auc: 0.58232, Test Auc: 0.51728\n"
          ]
        },
        {
          "output_type": "stream",
          "name": "stderr",
          "text": [
            "\r 77%|███████▋  | 23/30 [02:47<00:49,  7.09s/it]"
          ]
        },
        {
          "output_type": "stream",
          "name": "stdout",
          "text": [
            "Epoch: 022, Loss: 0.32791, Train Auc: 0.88459, Val Auc: 0.57686, Test Auc: 0.51932\n"
          ]
        },
        {
          "output_type": "stream",
          "name": "stderr",
          "text": [
            "\r 80%|████████  | 24/30 [02:54<00:42,  7.10s/it]"
          ]
        },
        {
          "output_type": "stream",
          "name": "stdout",
          "text": [
            "Epoch: 023, Loss: 0.32186, Train Auc: 0.90880, Val Auc: 0.58117, Test Auc: 0.51875\n"
          ]
        },
        {
          "output_type": "stream",
          "name": "stderr",
          "text": [
            "\r 83%|████████▎ | 25/30 [03:01<00:35,  7.13s/it]"
          ]
        },
        {
          "output_type": "stream",
          "name": "stdout",
          "text": [
            "Epoch: 024, Loss: 0.31486, Train Auc: 0.91513, Val Auc: 0.58093, Test Auc: 0.51364\n"
          ]
        },
        {
          "output_type": "stream",
          "name": "stderr",
          "text": [
            "\r 87%|████████▋ | 26/30 [03:08<00:28,  7.13s/it]"
          ]
        },
        {
          "output_type": "stream",
          "name": "stdout",
          "text": [
            "Epoch: 025, Loss: 0.30628, Train Auc: 0.92179, Val Auc: 0.57345, Test Auc: 0.53243\n"
          ]
        },
        {
          "output_type": "stream",
          "name": "stderr",
          "text": [
            "\r 90%|█████████ | 27/30 [03:15<00:21,  7.13s/it]"
          ]
        },
        {
          "output_type": "stream",
          "name": "stdout",
          "text": [
            "Epoch: 026, Loss: 0.29576, Train Auc: 0.91953, Val Auc: 0.58989, Test Auc: 0.52054\n"
          ]
        },
        {
          "output_type": "stream",
          "name": "stderr",
          "text": [
            "\r 93%|█████████▎| 28/30 [03:23<00:14,  7.12s/it]"
          ]
        },
        {
          "output_type": "stream",
          "name": "stdout",
          "text": [
            "Epoch: 027, Loss: 0.29564, Train Auc: 0.92852, Val Auc: 0.57635, Test Auc: 0.51246\n"
          ]
        },
        {
          "output_type": "stream",
          "name": "stderr",
          "text": [
            "\r 97%|█████████▋| 29/30 [03:30<00:07,  7.07s/it]"
          ]
        },
        {
          "output_type": "stream",
          "name": "stdout",
          "text": [
            "Epoch: 028, Loss: 0.28643, Train Auc: 0.92933, Val Auc: 0.58100, Test Auc: 0.50909\n"
          ]
        },
        {
          "output_type": "stream",
          "name": "stderr",
          "text": [
            "100%|██████████| 30/30 [03:37<00:00,  7.23s/it]"
          ]
        },
        {
          "output_type": "stream",
          "name": "stdout",
          "text": [
            "Epoch: 029, Loss: 0.28846, Train Auc: 0.93542, Val Auc: 0.57662, Test Auc: 0.50635\n"
          ]
        },
        {
          "output_type": "stream",
          "name": "stderr",
          "text": [
            "\n"
          ]
        }
      ],
      "source": [
        "# Train a model\n",
        "NUM_EPOCHS =   30#@param { type: \"integer\" }\n",
        "for epoch in tqdm(range(NUM_EPOCHS)):\n",
        "    loss = train()\n",
        "    train_acc = evaluate(train_loader)\n",
        "    val_acc = evaluate(val_loader)    \n",
        "    test_acc = evaluate(test_loader)\n",
        "    print('Epoch: {:03d}, Loss: {:.5f}, Train Auc: {:.5f}, Val Auc: {:.5f}, Test Auc: {:.5f}'.\n",
        "          format(epoch, loss, train_acc, val_acc, test_acc))"
      ]
    }
  ],
  "metadata": {
    "accelerator": "GPU",
    "colab": {
      "collapsed_sections": [],
      "name": "LAB6.ipynb",
      "provenance": []
    },
    "kernelspec": {
      "display_name": "Python 3",
      "language": "python",
      "name": "python3"
    },
    "language_info": {
      "codemirror_mode": {
        "name": "ipython",
        "version": 3
      },
      "file_extension": ".py",
      "mimetype": "text/x-python",
      "name": "python",
      "nbconvert_exporter": "python",
      "pygments_lexer": "ipython3",
      "version": "3.6.6"
    }
  },
  "nbformat": 4,
  "nbformat_minor": 0
}