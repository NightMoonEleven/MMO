{
  "cells": [
    {
      "cell_type": "markdown",
      "metadata": {
        "id": "ArUOnO7bqkJw"
      },
      "source": [
        "##Рубежный контроль №1 \n",
        "\n",
        "Курьянов А.И.\n",
        "Группа: ИУ5-22М \n",
        "\n",
        "Вариант №7"
      ]
    },
    {
      "cell_type": "markdown",
      "metadata": {
        "id": "nUuPGUzWquZM"
      },
      "source": [
        "Задание №1 (7) Для набора данных проведите устранение пропусков для одного (произвольного) числового признака с использованием метода заполнения медианой."
      ]
    },
    {
      "cell_type": "code",
      "execution_count": null,
      "metadata": {
        "id": "0fNvjms3qzAS"
      },
      "outputs": [],
      "source": [
        "import pandas as pd\n",
        "import numpy as np\n",
        "import seaborn as sns\n",
        "import matplotlib.pyplot as plt\n",
        "import itertools\n",
        "import scipy.stats as ss\n",
        "from sklearn.impute import SimpleImputer"
      ]
    },
    {
      "cell_type": "code",
      "execution_count": null,
      "metadata": {
        "colab": {
          "base_uri": "https://localhost:8080/"
        },
        "id": "ayp28j4FrE4f",
        "outputId": "5d01a606-8462-4923-9b4e-1d5317e72d6a"
      },
      "outputs": [
        {
          "data": {
            "text/plain": [
              "15"
            ]
          },
          "execution_count": 3,
          "metadata": {},
          "output_type": "execute_result"
        }
      ],
      "source": [
        "df = pd.read_csv('Prolific_Inventor.csv', encoding='ISO-8859-1')\n",
        "df['Inventors / Patent'].isnull().sum()"
      ]
    },
    {
      "cell_type": "code",
      "execution_count": null,
      "metadata": {
        "id": "TNxAnBf-wehS"
      },
      "outputs": [],
      "source": [
        "def impute_column(dataset, column, strategy_param):\n",
        "    \"\"\"\n",
        "    Заполнение пропусков в одном признаке\n",
        "    \"\"\"\n",
        "    temp_data = dataset[[column]].values\n",
        "    imputer = SimpleImputer(strategy=strategy_param, \n",
        "                            fill_value=None)\n",
        "    all_data = imputer.fit_transform(temp_data)\n",
        "    dataset[[column]] = all_data\n",
        "    return dataset"
      ]
    },
    {
      "cell_type": "code",
      "execution_count": null,
      "metadata": {
        "colab": {
          "base_uri": "https://localhost:8080/"
        },
        "id": "u9ru4uMotpsK",
        "outputId": "fb1fd05b-e786-4679-91e1-28abf2951c5e"
      },
      "outputs": [
        {
          "data": {
            "text/plain": [
              "0"
            ]
          },
          "execution_count": 5,
          "metadata": {},
          "output_type": "execute_result"
        }
      ],
      "source": [
        "all_data = impute_column(df, 'Inventors / Patent', 'median')\n",
        "all_data['Inventors / Patent'].isnull().sum()"
      ]
    },
    {
      "cell_type": "markdown",
      "metadata": {
        "id": "QN61PhKJqwF4"
      },
      "source": [
        "Задание №2 (27) Для набора данных для одного (произвольного) числового признака проведите обнаружение и замену (найденными верхними и нижними границами) выбросов на основе 5% и 95% квантилей."
      ]
    },
    {
      "cell_type": "code",
      "execution_count": null,
      "metadata": {
        "colab": {
          "base_uri": "https://localhost:8080/"
        },
        "id": "VqQFxbiAqzmJ",
        "outputId": "b1ccf6b2-b646-40ac-8b6c-6b97d861630a"
      },
      "outputs": [
        {
          "name": "stdout",
          "output_type": "stream",
          "text": [
            "<class 'pandas.core.frame.DataFrame'>\n",
            "RangeIndex: 333 entries, 0 to 332\n",
            "Data columns (total 8 columns):\n",
            " #   Column               Non-Null Count  Dtype  \n",
            "---  ------               --------------  -----  \n",
            " 0   Inventor             333 non-null    object \n",
            " 1   Patents              333 non-null    int64  \n",
            " 2   Residence            333 non-null    object \n",
            " 3   Patent Years         333 non-null    object \n",
            " 4   Years                333 non-null    float64\n",
            " 5   Patents / Year       333 non-null    int64  \n",
            " 6   Inventors / Patent   333 non-null    float64\n",
            " 7   Majority assignment  333 non-null    object \n",
            "dtypes: float64(2), int64(2), object(4)\n",
            "memory usage: 20.9+ KB\n"
          ]
        }
      ],
      "source": [
        "df.info()"
      ]
    },
    {
      "cell_type": "code",
      "execution_count": null,
      "metadata": {
        "id": "Vv7qYbT7ylxS"
      },
      "outputs": [],
      "source": [
        "from enum import Enum\n",
        "class OutlierBoundaryType(Enum):\n",
        "    QUANTILE = 2"
      ]
    },
    {
      "cell_type": "code",
      "execution_count": null,
      "metadata": {
        "colab": {
          "background_save": true
        },
        "id": "ga1mSU_UyYJW"
      },
      "outputs": [],
      "source": [
        "def diagnostic_plots(df, variable, title):\n",
        "    fig, ax = plt.subplots(figsize=(10,7))\n",
        "    # гистограмма\n",
        "    plt.subplot(2, 2, 1)\n",
        "    df[variable].hist(bins=30)\n",
        "    ## Q-Q plot\n",
        "    plt.subplot(2, 2, 2)\n",
        "    ss.probplot(df[variable], dist=\"norm\", plot=plt)\n",
        "    # ящик с усами\n",
        "    plt.subplot(2, 2, 3)\n",
        "    sns.violinplot(x=df[variable])    \n",
        "    # ящик с усами\n",
        "    plt.subplot(2, 2, 4)\n",
        "    sns.boxplot(x=df[variable])  \n",
        "    fig.suptitle(title)\n",
        "    plt.show()\n",
        "\n",
        "\n",
        "# Функция вычисления верхней и нижней границы выбросов\n",
        "def get_outlier_boundaries(df, col, outlier_boundary_type: OutlierBoundaryType):\n",
        "    if outlier_boundary_type == OutlierBoundaryType.QUANTILE:\n",
        "        lower_boundary = df[col].quantile(0.05)\n",
        "        upper_boundary = df[col].quantile(0.95)\n",
        "\n",
        "    else:\n",
        "        raise NameError('Unknown Outlier Boundary Type')\n",
        "        \n",
        "    return lower_boundary, upper_boundary   "
      ]
    },
    {
      "cell_type": "code",
      "execution_count": null,
      "metadata": {
        "colab": {
          "background_save": true,
          "base_uri": "https://localhost:8080/",
          "height": 492
        },
        "id": "_feooAepypIz",
        "outputId": "17280d1e-33ab-4cf6-c0e4-db4eb930dc3b"
      },
      "outputs": [
        {
          "data": {
            "image/png": "[encoded data removed]",
            "text/plain": [
              "<Figure size 720x504 with 2 Axes>"
            ]
          },
          "metadata": {},
          "output_type": "display_data"
        }
      ],
      "source": [
        "for obt in OutlierBoundaryType:\n",
        "  # Вычисление верхней и нижней границы\n",
        "  lower_boundary, upper_boundary = get_outlier_boundaries(df, 'Patents', obt)\n",
        "  # Флаги для удаления выбросов\n",
        "  outliers_temp = np.where(df['Patents'] > upper_boundary, True, np.where(df['Patents'] < lower_boundary, True, False))\n",
        "  # Удаление данных на основе флага\n",
        "  data_trimmed = df.loc[~(outliers_temp), ]  \n",
        "  title = 'Поле-{}, метод-{}, строк-{}'.format('Patents', obt, data_trimmed.shape[0])\n",
        "  diagnostic_plots(data_trimmed, 'Patents', title)"
      ]
    }
  ],
  "metadata": {
    "colab": {
      "name": "RK1.ipynb",
      "provenance": []
    },
    "kernelspec": {
      "display_name": "Python 3",
      "name": "python3"
    },
    "language_info": {
      "name": "python"
    }
  },
  "nbformat": 4,
  "nbformat_minor": 0
}